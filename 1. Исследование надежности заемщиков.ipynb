{
 "cells": [
  {
   "cell_type": "markdown",
   "id": "386f2ae7",
   "metadata": {
    "deletable": false,
    "editable": false,
    "id": "386f2ae7"
   },
   "source": [
    "# Исследование надежности заемщиков\n"
   ]
  },
  {
   "cell_type": "markdown",
   "id": "ffe86f65",
   "metadata": {
    "deletable": false,
    "editable": false,
    "id": "ffe86f65"
   },
   "source": [
    "Во второй части проекта вы выполните шаги 3 и 4. Их вручную проверит ревьюер.\n",
    "Чтобы вам не пришлось писать код заново для шагов 1 и 2, мы добавили авторские решения в ячейки с кодом. \n",
    "\n"
   ]
  },
  {
   "cell_type": "markdown",
   "id": "26613308",
   "metadata": {
    "deletable": false,
    "editable": false,
    "id": "26613308"
   },
   "source": [
    "## Откройте таблицу и изучите общую информацию о данных"
   ]
  },
  {
   "cell_type": "markdown",
   "id": "3c9f838e",
   "metadata": {
    "deletable": false,
    "editable": false,
    "id": "3c9f838e"
   },
   "source": [
    "**Задание 1. Импортируйте библиотеку pandas. Считайте данные из csv-файла в датафрейм и сохраните в переменную `data`. Путь к файлу:**\n",
    "\n",
    "`/datasets/data.csv`"
   ]
  },
  {
   "cell_type": "code",
   "execution_count": 3,
   "id": "77a68a90",
   "metadata": {
    "deletable": false,
    "id": "77a68a90"
   },
   "outputs": [],
   "source": [
    "import pandas as pd\n",
    "\n",
    "try:\n",
    "    data = pd.read_csv('/datasets/data.csv')\n",
    "except:\n",
    "    data = pd.read_csv('https://code.s3.yandex.net/datasets/data.csv')"
   ]
  },
  {
   "cell_type": "markdown",
   "id": "45365635",
   "metadata": {
    "deletable": false,
    "editable": false,
    "id": "45365635"
   },
   "source": [
    "**Задание 2. Выведите первые 20 строчек датафрейма `data` на экран.**"
   ]
  },
  {
   "cell_type": "code",
   "execution_count": 4,
   "id": "b0451a9a",
   "metadata": {
    "deletable": false,
    "id": "b0451a9a",
    "outputId": "1a8f3ef2-d323-4ec2-ddf7-89670b5944c4"
   },
   "outputs": [
    {
     "data": {
      "text/html": [
       "<div>\n",
       "<style scoped>\n",
       "    .dataframe tbody tr th:only-of-type {\n",
       "        vertical-align: middle;\n",
       "    }\n",
       "\n",
       "    .dataframe tbody tr th {\n",
       "        vertical-align: top;\n",
       "    }\n",
       "\n",
       "    .dataframe thead th {\n",
       "        text-align: right;\n",
       "    }\n",
       "</style>\n",
       "<table border=\"1\" class=\"dataframe\">\n",
       "  <thead>\n",
       "    <tr style=\"text-align: right;\">\n",
       "      <th></th>\n",
       "      <th>children</th>\n",
       "      <th>days_employed</th>\n",
       "      <th>dob_years</th>\n",
       "      <th>education</th>\n",
       "      <th>education_id</th>\n",
       "      <th>family_status</th>\n",
       "      <th>family_status_id</th>\n",
       "      <th>gender</th>\n",
       "      <th>income_type</th>\n",
       "      <th>debt</th>\n",
       "      <th>total_income</th>\n",
       "      <th>purpose</th>\n",
       "    </tr>\n",
       "  </thead>\n",
       "  <tbody>\n",
       "    <tr>\n",
       "      <th>0</th>\n",
       "      <td>1</td>\n",
       "      <td>-8437.673028</td>\n",
       "      <td>42</td>\n",
       "      <td>высшее</td>\n",
       "      <td>0</td>\n",
       "      <td>женат / замужем</td>\n",
       "      <td>0</td>\n",
       "      <td>F</td>\n",
       "      <td>сотрудник</td>\n",
       "      <td>0</td>\n",
       "      <td>253875.639453</td>\n",
       "      <td>покупка жилья</td>\n",
       "    </tr>\n",
       "    <tr>\n",
       "      <th>1</th>\n",
       "      <td>1</td>\n",
       "      <td>-4024.803754</td>\n",
       "      <td>36</td>\n",
       "      <td>среднее</td>\n",
       "      <td>1</td>\n",
       "      <td>женат / замужем</td>\n",
       "      <td>0</td>\n",
       "      <td>F</td>\n",
       "      <td>сотрудник</td>\n",
       "      <td>0</td>\n",
       "      <td>112080.014102</td>\n",
       "      <td>приобретение автомобиля</td>\n",
       "    </tr>\n",
       "    <tr>\n",
       "      <th>2</th>\n",
       "      <td>0</td>\n",
       "      <td>-5623.422610</td>\n",
       "      <td>33</td>\n",
       "      <td>Среднее</td>\n",
       "      <td>1</td>\n",
       "      <td>женат / замужем</td>\n",
       "      <td>0</td>\n",
       "      <td>M</td>\n",
       "      <td>сотрудник</td>\n",
       "      <td>0</td>\n",
       "      <td>145885.952297</td>\n",
       "      <td>покупка жилья</td>\n",
       "    </tr>\n",
       "    <tr>\n",
       "      <th>3</th>\n",
       "      <td>3</td>\n",
       "      <td>-4124.747207</td>\n",
       "      <td>32</td>\n",
       "      <td>среднее</td>\n",
       "      <td>1</td>\n",
       "      <td>женат / замужем</td>\n",
       "      <td>0</td>\n",
       "      <td>M</td>\n",
       "      <td>сотрудник</td>\n",
       "      <td>0</td>\n",
       "      <td>267628.550329</td>\n",
       "      <td>дополнительное образование</td>\n",
       "    </tr>\n",
       "    <tr>\n",
       "      <th>4</th>\n",
       "      <td>0</td>\n",
       "      <td>340266.072047</td>\n",
       "      <td>53</td>\n",
       "      <td>среднее</td>\n",
       "      <td>1</td>\n",
       "      <td>гражданский брак</td>\n",
       "      <td>1</td>\n",
       "      <td>F</td>\n",
       "      <td>пенсионер</td>\n",
       "      <td>0</td>\n",
       "      <td>158616.077870</td>\n",
       "      <td>сыграть свадьбу</td>\n",
       "    </tr>\n",
       "    <tr>\n",
       "      <th>5</th>\n",
       "      <td>0</td>\n",
       "      <td>-926.185831</td>\n",
       "      <td>27</td>\n",
       "      <td>высшее</td>\n",
       "      <td>0</td>\n",
       "      <td>гражданский брак</td>\n",
       "      <td>1</td>\n",
       "      <td>M</td>\n",
       "      <td>компаньон</td>\n",
       "      <td>0</td>\n",
       "      <td>255763.565419</td>\n",
       "      <td>покупка жилья</td>\n",
       "    </tr>\n",
       "    <tr>\n",
       "      <th>6</th>\n",
       "      <td>0</td>\n",
       "      <td>-2879.202052</td>\n",
       "      <td>43</td>\n",
       "      <td>высшее</td>\n",
       "      <td>0</td>\n",
       "      <td>женат / замужем</td>\n",
       "      <td>0</td>\n",
       "      <td>F</td>\n",
       "      <td>компаньон</td>\n",
       "      <td>0</td>\n",
       "      <td>240525.971920</td>\n",
       "      <td>операции с жильем</td>\n",
       "    </tr>\n",
       "    <tr>\n",
       "      <th>7</th>\n",
       "      <td>0</td>\n",
       "      <td>-152.779569</td>\n",
       "      <td>50</td>\n",
       "      <td>СРЕДНЕЕ</td>\n",
       "      <td>1</td>\n",
       "      <td>женат / замужем</td>\n",
       "      <td>0</td>\n",
       "      <td>M</td>\n",
       "      <td>сотрудник</td>\n",
       "      <td>0</td>\n",
       "      <td>135823.934197</td>\n",
       "      <td>образование</td>\n",
       "    </tr>\n",
       "    <tr>\n",
       "      <th>8</th>\n",
       "      <td>2</td>\n",
       "      <td>-6929.865299</td>\n",
       "      <td>35</td>\n",
       "      <td>ВЫСШЕЕ</td>\n",
       "      <td>0</td>\n",
       "      <td>гражданский брак</td>\n",
       "      <td>1</td>\n",
       "      <td>F</td>\n",
       "      <td>сотрудник</td>\n",
       "      <td>0</td>\n",
       "      <td>95856.832424</td>\n",
       "      <td>на проведение свадьбы</td>\n",
       "    </tr>\n",
       "    <tr>\n",
       "      <th>9</th>\n",
       "      <td>0</td>\n",
       "      <td>-2188.756445</td>\n",
       "      <td>41</td>\n",
       "      <td>среднее</td>\n",
       "      <td>1</td>\n",
       "      <td>женат / замужем</td>\n",
       "      <td>0</td>\n",
       "      <td>M</td>\n",
       "      <td>сотрудник</td>\n",
       "      <td>0</td>\n",
       "      <td>144425.938277</td>\n",
       "      <td>покупка жилья для семьи</td>\n",
       "    </tr>\n",
       "    <tr>\n",
       "      <th>10</th>\n",
       "      <td>2</td>\n",
       "      <td>-4171.483647</td>\n",
       "      <td>36</td>\n",
       "      <td>высшее</td>\n",
       "      <td>0</td>\n",
       "      <td>женат / замужем</td>\n",
       "      <td>0</td>\n",
       "      <td>M</td>\n",
       "      <td>компаньон</td>\n",
       "      <td>0</td>\n",
       "      <td>113943.491460</td>\n",
       "      <td>покупка недвижимости</td>\n",
       "    </tr>\n",
       "    <tr>\n",
       "      <th>11</th>\n",
       "      <td>0</td>\n",
       "      <td>-792.701887</td>\n",
       "      <td>40</td>\n",
       "      <td>среднее</td>\n",
       "      <td>1</td>\n",
       "      <td>женат / замужем</td>\n",
       "      <td>0</td>\n",
       "      <td>F</td>\n",
       "      <td>сотрудник</td>\n",
       "      <td>0</td>\n",
       "      <td>77069.234271</td>\n",
       "      <td>покупка коммерческой недвижимости</td>\n",
       "    </tr>\n",
       "    <tr>\n",
       "      <th>12</th>\n",
       "      <td>0</td>\n",
       "      <td>NaN</td>\n",
       "      <td>65</td>\n",
       "      <td>среднее</td>\n",
       "      <td>1</td>\n",
       "      <td>гражданский брак</td>\n",
       "      <td>1</td>\n",
       "      <td>M</td>\n",
       "      <td>пенсионер</td>\n",
       "      <td>0</td>\n",
       "      <td>NaN</td>\n",
       "      <td>сыграть свадьбу</td>\n",
       "    </tr>\n",
       "    <tr>\n",
       "      <th>13</th>\n",
       "      <td>0</td>\n",
       "      <td>-1846.641941</td>\n",
       "      <td>54</td>\n",
       "      <td>неоконченное высшее</td>\n",
       "      <td>2</td>\n",
       "      <td>женат / замужем</td>\n",
       "      <td>0</td>\n",
       "      <td>F</td>\n",
       "      <td>сотрудник</td>\n",
       "      <td>0</td>\n",
       "      <td>130458.228857</td>\n",
       "      <td>приобретение автомобиля</td>\n",
       "    </tr>\n",
       "    <tr>\n",
       "      <th>14</th>\n",
       "      <td>0</td>\n",
       "      <td>-1844.956182</td>\n",
       "      <td>56</td>\n",
       "      <td>высшее</td>\n",
       "      <td>0</td>\n",
       "      <td>гражданский брак</td>\n",
       "      <td>1</td>\n",
       "      <td>F</td>\n",
       "      <td>компаньон</td>\n",
       "      <td>1</td>\n",
       "      <td>165127.911772</td>\n",
       "      <td>покупка жилой недвижимости</td>\n",
       "    </tr>\n",
       "    <tr>\n",
       "      <th>15</th>\n",
       "      <td>1</td>\n",
       "      <td>-972.364419</td>\n",
       "      <td>26</td>\n",
       "      <td>среднее</td>\n",
       "      <td>1</td>\n",
       "      <td>женат / замужем</td>\n",
       "      <td>0</td>\n",
       "      <td>F</td>\n",
       "      <td>сотрудник</td>\n",
       "      <td>0</td>\n",
       "      <td>116820.904450</td>\n",
       "      <td>строительство собственной недвижимости</td>\n",
       "    </tr>\n",
       "    <tr>\n",
       "      <th>16</th>\n",
       "      <td>0</td>\n",
       "      <td>-1719.934226</td>\n",
       "      <td>35</td>\n",
       "      <td>среднее</td>\n",
       "      <td>1</td>\n",
       "      <td>женат / замужем</td>\n",
       "      <td>0</td>\n",
       "      <td>F</td>\n",
       "      <td>сотрудник</td>\n",
       "      <td>0</td>\n",
       "      <td>289202.704229</td>\n",
       "      <td>недвижимость</td>\n",
       "    </tr>\n",
       "    <tr>\n",
       "      <th>17</th>\n",
       "      <td>0</td>\n",
       "      <td>-2369.999720</td>\n",
       "      <td>33</td>\n",
       "      <td>высшее</td>\n",
       "      <td>0</td>\n",
       "      <td>гражданский брак</td>\n",
       "      <td>1</td>\n",
       "      <td>M</td>\n",
       "      <td>сотрудник</td>\n",
       "      <td>0</td>\n",
       "      <td>90410.586745</td>\n",
       "      <td>строительство недвижимости</td>\n",
       "    </tr>\n",
       "    <tr>\n",
       "      <th>18</th>\n",
       "      <td>0</td>\n",
       "      <td>400281.136913</td>\n",
       "      <td>53</td>\n",
       "      <td>среднее</td>\n",
       "      <td>1</td>\n",
       "      <td>вдовец / вдова</td>\n",
       "      <td>2</td>\n",
       "      <td>F</td>\n",
       "      <td>пенсионер</td>\n",
       "      <td>0</td>\n",
       "      <td>56823.777243</td>\n",
       "      <td>на покупку подержанного автомобиля</td>\n",
       "    </tr>\n",
       "    <tr>\n",
       "      <th>19</th>\n",
       "      <td>0</td>\n",
       "      <td>-10038.818549</td>\n",
       "      <td>48</td>\n",
       "      <td>СРЕДНЕЕ</td>\n",
       "      <td>1</td>\n",
       "      <td>в разводе</td>\n",
       "      <td>3</td>\n",
       "      <td>F</td>\n",
       "      <td>сотрудник</td>\n",
       "      <td>0</td>\n",
       "      <td>242831.107982</td>\n",
       "      <td>на покупку своего автомобиля</td>\n",
       "    </tr>\n",
       "  </tbody>\n",
       "</table>\n",
       "</div>"
      ],
      "text/plain": [
       "    children  days_employed  dob_years            education  education_id  \\\n",
       "0          1   -8437.673028         42               высшее             0   \n",
       "1          1   -4024.803754         36              среднее             1   \n",
       "2          0   -5623.422610         33              Среднее             1   \n",
       "3          3   -4124.747207         32              среднее             1   \n",
       "4          0  340266.072047         53              среднее             1   \n",
       "5          0    -926.185831         27               высшее             0   \n",
       "6          0   -2879.202052         43               высшее             0   \n",
       "7          0    -152.779569         50              СРЕДНЕЕ             1   \n",
       "8          2   -6929.865299         35               ВЫСШЕЕ             0   \n",
       "9          0   -2188.756445         41              среднее             1   \n",
       "10         2   -4171.483647         36               высшее             0   \n",
       "11         0    -792.701887         40              среднее             1   \n",
       "12         0            NaN         65              среднее             1   \n",
       "13         0   -1846.641941         54  неоконченное высшее             2   \n",
       "14         0   -1844.956182         56               высшее             0   \n",
       "15         1    -972.364419         26              среднее             1   \n",
       "16         0   -1719.934226         35              среднее             1   \n",
       "17         0   -2369.999720         33               высшее             0   \n",
       "18         0  400281.136913         53              среднее             1   \n",
       "19         0  -10038.818549         48              СРЕДНЕЕ             1   \n",
       "\n",
       "       family_status  family_status_id gender income_type  debt  \\\n",
       "0    женат / замужем                 0      F   сотрудник     0   \n",
       "1    женат / замужем                 0      F   сотрудник     0   \n",
       "2    женат / замужем                 0      M   сотрудник     0   \n",
       "3    женат / замужем                 0      M   сотрудник     0   \n",
       "4   гражданский брак                 1      F   пенсионер     0   \n",
       "5   гражданский брак                 1      M   компаньон     0   \n",
       "6    женат / замужем                 0      F   компаньон     0   \n",
       "7    женат / замужем                 0      M   сотрудник     0   \n",
       "8   гражданский брак                 1      F   сотрудник     0   \n",
       "9    женат / замужем                 0      M   сотрудник     0   \n",
       "10   женат / замужем                 0      M   компаньон     0   \n",
       "11   женат / замужем                 0      F   сотрудник     0   \n",
       "12  гражданский брак                 1      M   пенсионер     0   \n",
       "13   женат / замужем                 0      F   сотрудник     0   \n",
       "14  гражданский брак                 1      F   компаньон     1   \n",
       "15   женат / замужем                 0      F   сотрудник     0   \n",
       "16   женат / замужем                 0      F   сотрудник     0   \n",
       "17  гражданский брак                 1      M   сотрудник     0   \n",
       "18    вдовец / вдова                 2      F   пенсионер     0   \n",
       "19         в разводе                 3      F   сотрудник     0   \n",
       "\n",
       "     total_income                                 purpose  \n",
       "0   253875.639453                           покупка жилья  \n",
       "1   112080.014102                 приобретение автомобиля  \n",
       "2   145885.952297                           покупка жилья  \n",
       "3   267628.550329              дополнительное образование  \n",
       "4   158616.077870                         сыграть свадьбу  \n",
       "5   255763.565419                           покупка жилья  \n",
       "6   240525.971920                       операции с жильем  \n",
       "7   135823.934197                             образование  \n",
       "8    95856.832424                   на проведение свадьбы  \n",
       "9   144425.938277                 покупка жилья для семьи  \n",
       "10  113943.491460                    покупка недвижимости  \n",
       "11   77069.234271       покупка коммерческой недвижимости  \n",
       "12            NaN                         сыграть свадьбу  \n",
       "13  130458.228857                 приобретение автомобиля  \n",
       "14  165127.911772              покупка жилой недвижимости  \n",
       "15  116820.904450  строительство собственной недвижимости  \n",
       "16  289202.704229                            недвижимость  \n",
       "17   90410.586745              строительство недвижимости  \n",
       "18   56823.777243      на покупку подержанного автомобиля  \n",
       "19  242831.107982            на покупку своего автомобиля  "
      ]
     },
     "execution_count": 4,
     "metadata": {},
     "output_type": "execute_result"
    }
   ],
   "source": [
    "data.head(20)"
   ]
  },
  {
   "cell_type": "markdown",
   "id": "0ed8f27f",
   "metadata": {
    "deletable": false,
    "editable": false,
    "id": "0ed8f27f"
   },
   "source": [
    "**Задание 3. Выведите основную информацию о датафрейме с помощью метода `info()`.**"
   ]
  },
  {
   "cell_type": "code",
   "execution_count": null,
   "id": "ab3f863b",
   "metadata": {
    "deletable": false,
    "id": "ab3f863b",
    "outputId": "15376089-8dad-46c9-b520-c05248d43158"
   },
   "outputs": [],
   "source": []
  },
  {
   "cell_type": "markdown",
   "id": "60e3e22d",
   "metadata": {
    "deletable": false,
    "editable": false,
    "id": "60e3e22d"
   },
   "source": [
    "## Предобработка данных"
   ]
  },
  {
   "cell_type": "markdown",
   "id": "03dc170c",
   "metadata": {
    "deletable": false,
    "editable": false,
    "id": "03dc170c"
   },
   "source": [
    "### Удаление пропусков"
   ]
  },
  {
   "cell_type": "markdown",
   "id": "a4f54eef",
   "metadata": {
    "deletable": false,
    "editable": false,
    "id": "a4f54eef"
   },
   "source": [
    "**Задание 4. Выведите количество пропущенных значений для каждого столбца. Используйте комбинацию двух методов.**"
   ]
  },
  {
   "cell_type": "code",
   "execution_count": 5,
   "id": "2dc372b2",
   "metadata": {
    "deletable": false,
    "id": "2dc372b2",
    "outputId": "81f4d817-781c-465c-ed15-91ce4446810d"
   },
   "outputs": [
    {
     "name": "stdout",
     "output_type": "stream",
     "text": [
      "children               0\n",
      "days_employed       2174\n",
      "dob_years              0\n",
      "education              0\n",
      "education_id           0\n",
      "family_status          0\n",
      "family_status_id       0\n",
      "gender                 0\n",
      "income_type            0\n",
      "debt                   0\n",
      "total_income        2174\n",
      "purpose                0\n",
      "dtype: int64\n",
      "Доля пропусков равна: 10.10%\n"
     ]
    }
   ],
   "source": [
    "print(data.isna().sum())\n",
    "print(\"Доля пропусков равна: {:.2f}%\".format(data['days_employed'].isna().sum() / data.shape[0]*100))"
   ]
  },
  {
   "cell_type": "markdown",
   "id": "14f011b1",
   "metadata": {
    "deletable": false,
    "editable": false,
    "id": "14f011b1"
   },
   "source": [
    "**Задание 5. В двух столбцах есть пропущенные значения. Один из них — `days_employed`. Пропуски в этом столбце вы обработаете на следующем этапе. Другой столбец с пропущенными значениями — `total_income` — хранит данные о доходах. На сумму дохода сильнее всего влияет тип занятости, поэтому заполнить пропуски в этом столбце нужно медианным значением по каждому типу из столбца `income_type`. Например, у человека с типом занятости `сотрудник` пропуск в столбце `total_income` должен быть заполнен медианным доходом среди всех записей с тем же типом.**"
   ]
  },
  {
   "cell_type": "code",
   "execution_count": 6,
   "id": "bdabfb6e",
   "metadata": {
    "deletable": false,
    "id": "bdabfb6e"
   },
   "outputs": [],
   "source": [
    "for t in data['income_type'].unique():\n",
    "    data.loc[(data['income_type'] == t) & (data['total_income'].isna()), 'total_income'] = \\\n",
    "    data.loc[(data['income_type'] == t), 'total_income'].median()"
   ]
  },
  {
   "cell_type": "markdown",
   "id": "5be34059",
   "metadata": {
    "deletable": false,
    "editable": false,
    "id": "5be34059"
   },
   "source": [
    "### Обработка аномальных значений"
   ]
  },
  {
   "cell_type": "markdown",
   "id": "a87606cb",
   "metadata": {
    "deletable": false,
    "editable": false,
    "id": "a87606cb"
   },
   "source": [
    "**Задание 6. В данных могут встречаться артефакты (аномалии) — значения, которые не отражают действительность и появились по какой-то ошибке. таким артефактом будет отрицательное количество дней трудового стажа в столбце `days_employed`. Для реальных данных это нормально. Обработайте значения в этом столбце: замените все отрицательные значения положительными с помощью метода `abs()`.**"
   ]
  },
  {
   "cell_type": "code",
   "execution_count": 61,
   "id": "020c46cc",
   "metadata": {
    "deletable": false,
    "id": "020c46cc"
   },
   "outputs": [],
   "source": [
    "data['days_employed'] = data['days_employed'].abs()"
   ]
  },
  {
   "cell_type": "markdown",
   "id": "0f512073",
   "metadata": {},
   "source": [
    "Возможной причиной такого рода ошибок может быть человеческий фактор."
   ]
  },
  {
   "cell_type": "markdown",
   "id": "45538a3a",
   "metadata": {
    "deletable": false,
    "editable": false,
    "id": "45538a3a"
   },
   "source": [
    "**Задание 7. Для каждого типа занятости выведите медианное значение трудового стажа `days_employed` в днях.**"
   ]
  },
  {
   "cell_type": "code",
   "execution_count": 62,
   "id": "cd3e6328",
   "metadata": {
    "deletable": false,
    "id": "cd3e6328",
    "outputId": "801ef80e-522b-4668-f34e-565af7432bcf"
   },
   "outputs": [
    {
     "data": {
      "text/plain": [
       "income_type\n",
       "безработный        366413.652744\n",
       "в декрете            3296.759962\n",
       "госслужащий          2689.368353\n",
       "компаньон            1547.382223\n",
       "пенсионер          365213.306266\n",
       "предприниматель       520.848083\n",
       "сотрудник            1574.202821\n",
       "студент               578.751554\n",
       "Name: days_employed, dtype: float64"
      ]
     },
     "execution_count": 62,
     "metadata": {},
     "output_type": "execute_result"
    }
   ],
   "source": [
    "data.groupby('income_type')['days_employed'].agg('median')"
   ]
  },
  {
   "cell_type": "markdown",
   "id": "90c5f058",
   "metadata": {
    "deletable": false,
    "editable": false,
    "id": "90c5f058"
   },
   "source": [
    "У двух типов (безработные и пенсионеры) получатся аномально большие значения. Исправить такие значения сложно, поэтому оставьте их как есть."
   ]
  },
  {
   "cell_type": "markdown",
   "id": "9652e50d",
   "metadata": {
    "deletable": false,
    "editable": false,
    "id": "9652e50d"
   },
   "source": [
    "**Задание 8. Выведите перечень уникальных значений столбца `children`.**"
   ]
  },
  {
   "cell_type": "code",
   "execution_count": 63,
   "id": "dbb37b8e",
   "metadata": {
    "deletable": false,
    "id": "dbb37b8e",
    "outputId": "6975b15c-7f95-4697-d16d-a0c79b657b03"
   },
   "outputs": [
    {
     "data": {
      "text/plain": [
       "array([ 1,  0,  3,  2, -1,  4, 20,  5])"
      ]
     },
     "execution_count": 63,
     "metadata": {},
     "output_type": "execute_result"
    }
   ],
   "source": [
    "data['children'].unique()"
   ]
  },
  {
   "cell_type": "markdown",
   "id": "2b8b0715",
   "metadata": {
    "deletable": false,
    "editable": false,
    "id": "2b8b0715"
   },
   "source": [
    "**Задание 9. В столбце `children` есть два аномальных значения. Удалите строки, в которых встречаются такие аномальные значения из датафрейма `data`.**"
   ]
  },
  {
   "cell_type": "code",
   "execution_count": 64,
   "id": "20009df8",
   "metadata": {
    "deletable": false,
    "id": "20009df8"
   },
   "outputs": [],
   "source": [
    "data = data[(data['children'] != -1) & (data['children'] != 20)]"
   ]
  },
  {
   "cell_type": "markdown",
   "id": "8c6ac9f1",
   "metadata": {
    "deletable": false,
    "editable": false,
    "id": "8c6ac9f1"
   },
   "source": [
    "**Задание 10. Ещё раз выведите перечень уникальных значений столбца `children`, чтобы убедиться, что артефакты удалены.**"
   ]
  },
  {
   "cell_type": "code",
   "execution_count": 65,
   "id": "07337b81",
   "metadata": {
    "deletable": false,
    "id": "07337b81",
    "outputId": "b2097101-d49d-44d9-901b-32a65c9463d1"
   },
   "outputs": [
    {
     "data": {
      "text/plain": [
       "array([1, 0, 3, 2, 4, 5])"
      ]
     },
     "execution_count": 65,
     "metadata": {},
     "output_type": "execute_result"
    }
   ],
   "source": [
    "data['children'].unique()"
   ]
  },
  {
   "cell_type": "markdown",
   "id": "ee3f52d4",
   "metadata": {
    "deletable": false,
    "editable": false,
    "id": "ee3f52d4"
   },
   "source": [
    "### Удаление пропусков (продолжение)"
   ]
  },
  {
   "cell_type": "markdown",
   "id": "a700b0e4",
   "metadata": {
    "deletable": false,
    "editable": false,
    "id": "a700b0e4"
   },
   "source": [
    "**Задание 11. Заполните пропуски в столбце `days_employed` медианными значениями по каждого типа занятости `income_type`.**"
   ]
  },
  {
   "cell_type": "code",
   "execution_count": 66,
   "id": "61946b83",
   "metadata": {
    "deletable": false,
    "id": "61946b83"
   },
   "outputs": [],
   "source": [
    "for t in data['income_type'].unique():\n",
    "    data.loc[(data['income_type'] == t) & (data['days_employed'].isna()), 'days_employed'] = \\\n",
    "    data.loc[(data['income_type'] == t), 'days_employed'].median()"
   ]
  },
  {
   "cell_type": "markdown",
   "id": "550dcd9b",
   "metadata": {
    "deletable": false,
    "editable": false,
    "id": "550dcd9b"
   },
   "source": [
    "**Задание 12. Убедитесь, что все пропуски заполнены. Проверьте себя и ещё раз выведите количество пропущенных значений для каждого столбца с помощью двух методов.**"
   ]
  },
  {
   "cell_type": "code",
   "execution_count": 67,
   "id": "937c7014",
   "metadata": {
    "deletable": false,
    "id": "937c7014",
    "outputId": "8da1e4e1-358e-4e87-98c9-f261bce0a7b2"
   },
   "outputs": [
    {
     "data": {
      "text/plain": [
       "children            0\n",
       "days_employed       0\n",
       "dob_years           0\n",
       "education           0\n",
       "education_id        0\n",
       "family_status       0\n",
       "family_status_id    0\n",
       "gender              0\n",
       "income_type         0\n",
       "debt                0\n",
       "total_income        0\n",
       "purpose             0\n",
       "dtype: int64"
      ]
     },
     "execution_count": 67,
     "metadata": {},
     "output_type": "execute_result"
    }
   ],
   "source": [
    "data.isna().sum()"
   ]
  },
  {
   "cell_type": "markdown",
   "id": "d522e295",
   "metadata": {
    "deletable": false,
    "editable": false,
    "id": "d522e295"
   },
   "source": [
    "### Изменение типов данных"
   ]
  },
  {
   "cell_type": "markdown",
   "id": "c229c581",
   "metadata": {
    "deletable": false,
    "editable": false,
    "id": "c229c581"
   },
   "source": [
    "**Задание 13. Замените вещественный тип данных в столбце `total_income` на целочисленный с помощью метода `astype()`.**"
   ]
  },
  {
   "cell_type": "code",
   "execution_count": 68,
   "id": "31036462",
   "metadata": {
    "deletable": false,
    "id": "31036462"
   },
   "outputs": [],
   "source": [
    "data['total_income'] = data['total_income'].astype(int)"
   ]
  },
  {
   "cell_type": "markdown",
   "id": "b8e3d1d9",
   "metadata": {
    "deletable": false,
    "editable": false,
    "id": "b8e3d1d9"
   },
   "source": [
    "### Обработка дубликатов"
   ]
  },
  {
   "cell_type": "markdown",
   "id": "9be53c49",
   "metadata": {
    "deletable": false,
    "editable": false,
    "id": "9be53c49"
   },
   "source": [
    "**Задание 14. Обработайте неявные дубликаты в столбце `education`. В этом столбце есть одни и те же значения, но записанные по-разному: с использованием заглавных и строчных букв. Приведите их к нижнему регистру.**"
   ]
  },
  {
   "cell_type": "code",
   "execution_count": 69,
   "id": "d89e73e1",
   "metadata": {
    "deletable": false,
    "id": "d89e73e1"
   },
   "outputs": [],
   "source": [
    "data['education'] = data['education'].str.lower()"
   ]
  },
  {
   "cell_type": "markdown",
   "id": "01d4500e",
   "metadata": {
    "deletable": false,
    "editable": false,
    "id": "01d4500e"
   },
   "source": [
    "**Задание 15. Выведите на экран количество строк-дубликатов в данных. Если такие строки присутствуют, удалите их.**"
   ]
  },
  {
   "cell_type": "code",
   "execution_count": 70,
   "id": "e10efb23",
   "metadata": {
    "deletable": false,
    "id": "e10efb23",
    "outputId": "9684deba-1934-42d1-99e1-cda61740f822"
   },
   "outputs": [
    {
     "data": {
      "text/plain": [
       "71"
      ]
     },
     "execution_count": 70,
     "metadata": {},
     "output_type": "execute_result"
    }
   ],
   "source": [
    "data.duplicated().sum()"
   ]
  },
  {
   "cell_type": "code",
   "execution_count": 71,
   "id": "df853f20",
   "metadata": {
    "deletable": false,
    "id": "df853f20"
   },
   "outputs": [],
   "source": [
    "data = data.drop_duplicates()"
   ]
  },
  {
   "cell_type": "markdown",
   "id": "ab05dbb4",
   "metadata": {},
   "source": [
    "Для удаления всех дубликатов необходимо использовать встроенные функции (duplicated(), drop_duplicates(), удаление вручную). Дубликаты могут появляться вследствие технических ошибок."
   ]
  },
  {
   "cell_type": "markdown",
   "id": "627be38f",
   "metadata": {
    "deletable": false,
    "editable": false,
    "id": "627be38f"
   },
   "source": [
    "### Категоризация данных"
   ]
  },
  {
   "cell_type": "markdown",
   "id": "4684c3e0",
   "metadata": {
    "deletable": false,
    "editable": false,
    "id": "4684c3e0"
   },
   "source": [
    "**Задание 16. На основании диапазонов, указанных ниже, создайте в датафрейме `data` столбец `total_income_category` с категориями:**\n",
    "\n",
    "- 0–30000 — `'E'`;\n",
    "- 30001–50000 — `'D'`;\n",
    "- 50001–200000 — `'C'`;\n",
    "- 200001–1000000 — `'B'`;\n",
    "- 1000001 и выше — `'A'`.\n",
    "\n",
    "\n",
    "**Например, кредитополучателю с доходом 25000 нужно назначить категорию `'E'`, а клиенту, получающему 235000, — `'B'`. Используйте собственную функцию с именем `categorize_income()` и метод `apply()`.**"
   ]
  },
  {
   "cell_type": "code",
   "execution_count": 72,
   "id": "78965238",
   "metadata": {
    "deletable": false,
    "id": "78965238"
   },
   "outputs": [],
   "source": [
    "def categorize_income(income):\n",
    "    try:\n",
    "        if 0 <= income <= 30000:\n",
    "            return 'E'\n",
    "        elif 30001 <= income <= 50000:\n",
    "            return 'D'\n",
    "        elif 50001 <= income <= 200000:\n",
    "            return 'C'\n",
    "        elif 200001 <= income <= 1000000:\n",
    "            return 'B'\n",
    "        elif income >= 1000001:\n",
    "            return 'A'\n",
    "    except:\n",
    "        pass"
   ]
  },
  {
   "cell_type": "code",
   "execution_count": 73,
   "id": "0980ada1",
   "metadata": {
    "deletable": false,
    "id": "0980ada1"
   },
   "outputs": [],
   "source": [
    "data['total_income_category'] = data['total_income'].apply(categorize_income)"
   ]
  },
  {
   "cell_type": "markdown",
   "id": "9917bba0",
   "metadata": {
    "deletable": false,
    "editable": false,
    "id": "9917bba0"
   },
   "source": [
    "**Задание 17. Выведите на экран перечень уникальных целей взятия кредита из столбца `purpose`.**"
   ]
  },
  {
   "cell_type": "code",
   "execution_count": 74,
   "id": "ee07b65e",
   "metadata": {
    "deletable": false,
    "id": "ee07b65e",
    "outputId": "673c12d9-7d7e-4ae0-9812-c622c89dd244"
   },
   "outputs": [
    {
     "data": {
      "text/plain": [
       "array(['покупка жилья', 'приобретение автомобиля',\n",
       "       'дополнительное образование', 'сыграть свадьбу',\n",
       "       'операции с жильем', 'образование', 'на проведение свадьбы',\n",
       "       'покупка жилья для семьи', 'покупка недвижимости',\n",
       "       'покупка коммерческой недвижимости', 'покупка жилой недвижимости',\n",
       "       'строительство собственной недвижимости', 'недвижимость',\n",
       "       'строительство недвижимости', 'на покупку подержанного автомобиля',\n",
       "       'на покупку своего автомобиля',\n",
       "       'операции с коммерческой недвижимостью',\n",
       "       'строительство жилой недвижимости', 'жилье',\n",
       "       'операции со своей недвижимостью', 'автомобили',\n",
       "       'заняться образованием', 'сделка с подержанным автомобилем',\n",
       "       'получение образования', 'автомобиль', 'свадьба',\n",
       "       'получение дополнительного образования', 'покупка своего жилья',\n",
       "       'операции с недвижимостью', 'получение высшего образования',\n",
       "       'свой автомобиль', 'сделка с автомобилем',\n",
       "       'профильное образование', 'высшее образование',\n",
       "       'покупка жилья для сдачи', 'на покупку автомобиля', 'ремонт жилью',\n",
       "       'заняться высшим образованием'], dtype=object)"
      ]
     },
     "execution_count": 74,
     "metadata": {},
     "output_type": "execute_result"
    }
   ],
   "source": [
    "data['purpose'].unique()"
   ]
  },
  {
   "cell_type": "markdown",
   "id": "52b79d56",
   "metadata": {
    "deletable": false,
    "editable": false,
    "id": "52b79d56"
   },
   "source": [
    "**Задание 18. Создайте функцию, которая на основании данных из столбца `purpose` сформирует новый столбец `purpose_category`, в который войдут следующие категории:**\n",
    "\n",
    "- `'операции с автомобилем'`,\n",
    "- `'операции с недвижимостью'`,\n",
    "- `'проведение свадьбы'`,\n",
    "- `'получение образования'`.\n",
    "\n",
    "**Например, если в столбце `purpose` находится подстрока `'на покупку автомобиля'`, то в столбце `purpose_category` должна появиться строка `'операции с автомобилем'`.**\n",
    "\n",
    "**Используйте собственную функцию с именем `categorize_purpose()` и метод `apply()`. Изучите данные в столбце `purpose` и определите, какие подстроки помогут вам правильно определить категорию.**"
   ]
  },
  {
   "cell_type": "code",
   "execution_count": 75,
   "id": "be41da5d",
   "metadata": {
    "deletable": false,
    "id": "be41da5d"
   },
   "outputs": [],
   "source": [
    "def categorize_purpose(row):\n",
    "    try:\n",
    "        if 'автом' in row:\n",
    "            return 'операции с автомобилем'\n",
    "        elif 'жил' in row or 'недвиж' in row:\n",
    "            return 'операции с недвижимостью'\n",
    "        elif 'свад' in row:\n",
    "            return 'проведение свадьбы'\n",
    "        elif 'образов' in row:\n",
    "            return 'получение образования'\n",
    "    except:\n",
    "        return 'нет категории'"
   ]
  },
  {
   "cell_type": "code",
   "execution_count": 76,
   "id": "94c4a19a",
   "metadata": {
    "deletable": false,
    "id": "94c4a19a"
   },
   "outputs": [],
   "source": [
    "data['purpose_category'] = data['purpose'].apply(categorize_purpose)"
   ]
  },
  {
   "cell_type": "markdown",
   "id": "3d596c34",
   "metadata": {
    "deletable": false,
    "editable": false,
    "id": "3d596c34"
   },
   "source": [
    "### Шаг 3. Исследуйте данные и ответьте на вопросы"
   ]
  },
  {
   "cell_type": "markdown",
   "id": "648db036",
   "metadata": {
    "deletable": false,
    "editable": false,
    "id": "648db036"
   },
   "source": [
    "#### 3.1 Есть ли зависимость между количеством детей и возвратом кредита в срок?"
   ]
  },
  {
   "cell_type": "code",
   "execution_count": 77,
   "id": "7fcff25e",
   "metadata": {
    "deletable": false,
    "id": "7fcff25e"
   },
   "outputs": [
    {
     "name": "stdout",
     "output_type": "stream",
     "text": [
      "   debt_sum  debt_count         %\n",
      "0    1063.0     14091.0  7.543822\n",
      "1     444.0      4808.0  9.234609\n",
      "2     194.0      2052.0  9.454191\n",
      "3      27.0       330.0  8.181818\n",
      "4       4.0        41.0  9.756098\n",
      "5       0.0         9.0  0.000000\n"
     ]
    },
    {
     "data": {
      "image/png": "[encoded data removed]",
      "text/plain": [
       "<Figure size 576x576 with 2 Axes>"
      ]
     },
     "metadata": {
      "needs_background": "light"
     },
     "output_type": "display_data"
    }
   ],
   "source": [
    "import matplotlib.pyplot as plt\n",
    "\n",
    "df = pd.DataFrame([list(data.groupby('children')['debt'].sum()), list(data.groupby(\"children\")\n",
    "                    ['debt'].count()), data.groupby('children')['debt'].sum() / data.groupby(\"children\")['debt'].count() *100],\n",
    "                  index=[\"debt_sum\", 'debt_count','%']).transpose()\n",
    "#data_pivot = data.pivot_table(index=['children'], values = ['debt'], aggfunc=['sum', 'count'])\n",
    "#data_pivot['%'] = data_pivot['sum'] /data_pivot['count'] * 100\n",
    "#print(data_pivot)\n",
    "fig, axis = plt.subplots(nrows= 1 , ncols=2, figsize=(8, 8))\n",
    "axis[0].plot(df['%'], linewidth=5, color=\"r\")\n",
    "axis[0].set(xlim=[0, 5], ylim=[0, 10], xlabel = \"Количество детей\", ylabel = \"Процент невозврата долга в срок\")\n",
    "axis[1].plot(df['%'][0:5], linewidth=5, color=\"g\") \n",
    "axis[1].set(xlim=[0, 5], ylim=[0, 10], xlabel = \"Количество детей\", ylabel = \"Процент невозврата долга в срок\")\n",
    "fig. suptitle(\"График зависимости между количеством детей и возвратом кредита в срок\", fontsize=23, color=\"blue\")\n",
    "print(df)\n"
   ]
  },
  {
   "cell_type": "markdown",
   "id": "2eb9088e",
   "metadata": {
    "deletable": false,
    "id": "2eb9088e"
   },
   "source": [
    "**Вывод:** \n",
    "Исходя из представленных данных, можно сделать вывод о том, что меньше всего проблем с возвратом кредита возникает у людей, которые не имеют детей. Если исключить из анализа людей с пятью детьми (в связи со слишком малой выборкой (9 человек)), то прослеживается положительный тренд, значит, можно сделать вывод, что зависимость между количеством детей и возвратом кредита в срок присутствует, однако она слабовыраженная, т.к. на возврат кредита влияет множетсво других факторов."
   ]
  },
  {
   "cell_type": "markdown",
   "id": "74c9b3a7",
   "metadata": {
    "deletable": false,
    "editable": false,
    "id": "74c9b3a7"
   },
   "source": [
    "#### 3.2 Есть ли зависимость между семейным положением и возвратом кредита в срок?"
   ]
  },
  {
   "cell_type": "code",
   "execution_count": 30,
   "id": "8098ab3b",
   "metadata": {
    "deletable": false,
    "id": "8098ab3b"
   },
   "outputs": [
    {
     "name": "stdout",
     "output_type": "stream",
     "text": [
      "                         count    sum         %\n",
      "family_status                                  \n",
      "Не женат / не замужем   2796.0  273.0  9.763948\n",
      "в разводе               1189.0   84.0  7.064760\n",
      "вдовец / вдова           951.0   63.0  6.624606\n",
      "гражданский брак        4134.0  385.0  9.313014\n",
      "женат / замужем        12261.0  927.0  7.560558\n"
     ]
    },
    {
     "data": {
      "text/plain": [
       "Text(0, 0.5, 'Процент невозврата кредита')"
      ]
     },
     "execution_count": 30,
     "metadata": {},
     "output_type": "execute_result"
    },
    {
     "data": {
      "image/png": "[encoded data removed]",
      "text/plain": [
       "<Figure size 432x288 with 1 Axes>"
      ]
     },
     "metadata": {
      "needs_background": "light"
     },
     "output_type": "display_data"
    }
   ],
   "source": [
    "df = pd.DataFrame(data =[data.groupby('family_status')['debt'].count(), \n",
    "                        data.groupby('family_status')['debt'].sum(), \n",
    "                        (data.groupby('family_status')['debt'].sum()/data.groupby('family_status')['debt'].count() * 100)], \n",
    "                 index = ['count', 'sum', '%']).transpose()\n",
    "print(df)\n",
    "#data_pivot = data.pivot_table(index=['family_status'], values = ['debt'], aggfunc=['sum', 'count'])\n",
    "#data_pivot['%'] = data_pivot['sum'] /data_pivot['count'] * 100\n",
    "#print(data_pivot)\n",
    "\n",
    "df['%'].sort_values(ascending = False).plot(kind = 'bar')\n",
    "plt.xlabel('Семейное положение', fontsize=10, fontweight='bold')\n",
    "plt.ylabel('Процент невозврата кредита', fontsize=10, fontweight='bold')"
   ]
  },
  {
   "cell_type": "markdown",
   "id": "c389ca63",
   "metadata": {
    "deletable": false,
    "id": "c389ca63"
   },
   "source": [
    "**Вывод:** Исходя из представленных данных, можно сделать вывод о том, что между семеным положением и возвратом кредита срок существует некоторая взаимосвязь. Пока человек ответственен только за себя, он довольно халатно относится в погашению долгов, в связи с чем показатель невозврата в этой группе самый высокий. Если же пара официально зарегестрирована в браке, процент неуплаты резко снижается. Это можно объяснить как повышенной ответственностью, так и меньшей финансовой нагрузкой на одного человека. Самый низкий процент невозврата в этой выборке принадлежит вдовам/вдовцам, вполне вероятно, это связано с имуществом, которое им досталось по наследству."
   ]
  },
  {
   "cell_type": "markdown",
   "id": "9529de68",
   "metadata": {
    "deletable": false,
    "editable": false,
    "id": "9529de68"
   },
   "source": [
    "#### 3.3 Есть ли зависимость между уровнем дохода и возвратом кредита в срок?"
   ]
  },
  {
   "cell_type": "code",
   "execution_count": 52,
   "id": "8787f44a",
   "metadata": {
    "deletable": false,
    "id": "8787f44a"
   },
   "outputs": [
    {
     "name": "stdout",
     "output_type": "stream",
     "text": [
      "                         count     sum         %\n",
      "total_income_category                           \n",
      "A                         25.0     2.0  8.000000\n",
      "B                       5014.0   354.0  7.060231\n",
      "C                      15921.0  1353.0  8.498210\n",
      "D                        349.0    21.0  6.017192\n",
      "E                         22.0     2.0  9.090909\n"
     ]
    },
    {
     "data": {
      "text/plain": [
       "Text(0.5, 0.98, 'График зависимости между уровнем дохода и возвратом кредита в срок')"
      ]
     },
     "execution_count": 52,
     "metadata": {},
     "output_type": "execute_result"
    },
    {
     "data": {
      "image/png": "[encoded data removed]",
      "text/plain": [
       "<Figure size 576x576 with 2 Axes>"
      ]
     },
     "metadata": {
      "needs_background": "light"
     },
     "output_type": "display_data"
    }
   ],
   "source": [
    "df = pd.DataFrame(data =[data.groupby('total_income_category')['debt'].count(), \n",
    "                        data.groupby('total_income_category')['debt'].sum(), \n",
    "                        (data.groupby('total_income_category')['debt'].sum()/data.groupby('total_income_category')['debt'].count() * 100)], \n",
    "                 index = ['count', 'sum', '%']).transpose()\n",
    "print(df)\n",
    "#data_pivot = data.pivot_table(index=['total_income_category'], values = ['debt'], aggfunc=['sum', 'count'])\n",
    "#data_pivot['%'] = data_pivot['sum'] /data_pivot['count'] * 100\n",
    "#print(data_pivot)\n",
    "\n",
    "fig, axis = plt.subplots(nrows= 1 , ncols=2, figsize=(8, 8))\n",
    "df['%'].plot.bar(ax = axis[0], color=\"g\", alpha = 0.5)\n",
    "df['%'][1:3].plot.bar(ax = axis[1], color=\"r\", alpha = 0.5)\n",
    "axis[0].set(xlabel = \"Уровень дохода\", ylabel = \"Процент невозврата долга в срок\")\n",
    "axis[1].set(xlabel = \"Уровень дохода\", ylabel = \"Процент невозврата долга в срок\")\n",
    "fig. suptitle(\"График зависимости между уровнем дохода и возвратом кредита в срок\", fontsize=23, color=\"blue\")"
   ]
  },
  {
   "cell_type": "markdown",
   "id": "6dd14b57",
   "metadata": {
    "deletable": false,
    "id": "6dd14b57"
   },
   "source": [
    "~~**Вывод:** Исходя из представленных данных, можно сделать вывод о том, что зависимость между уровнем дохода и возвратом кредита в срок отсутствует. Самый высокий показатель невозврата кредитов в срок у группы E с самым низким уровнем дохода, однако самый низкий показатель у группы D, которая наиболее близка к E. У группы A с самым высоким уровнем дохода средний показатель. Необходимо заметить, что этот результат не поддается логике, возможно, в данных присутствуют ошибки, крайне желательно провести более детальный анализ данного явления.~~ "
   ]
  },
  {
   "cell_type": "markdown",
   "id": "96df32b5",
   "metadata": {},
   "source": [
    "**Новый вывод:** Исходя из представленных данных, *на первый взгляд*, можно сделать вывод о том, что зависимость между уровнем дохода и возвратом кредита в срок отсутствует, т.к. самый высокий показатель невозврата кредитов в срок у группы E с самым низким уровнем дохода, однако самый низкий показатель у группы D, которая наиболее близка к E. У группы A с самым высоким уровнем дохода средний показатель. Но, если убрать из анализа группы с доходом A, D, E (в связи с несбалансированной выборкой), то мы получим вполне логичную картину: заемщики из группы B, имеют меньше проблем с возвратом кредита, чем, группа С, с более низкими доходами. Значит зависимость присутствует."
   ]
  },
  {
   "cell_type": "markdown",
   "id": "1dcc9b12",
   "metadata": {
    "deletable": false,
    "editable": false,
    "id": "1dcc9b12"
   },
   "source": [
    "#### 3.4 Как разные цели кредита влияют на его возврат в срок?"
   ]
  },
  {
   "cell_type": "code",
   "execution_count": 25,
   "id": "c602bc8b",
   "metadata": {
    "deletable": false,
    "id": "c602bc8b"
   },
   "outputs": [
    {
     "name": "stdout",
     "output_type": "stream",
     "text": [
      "                            count    sum         %\n",
      "purpose_category                                  \n",
      "операции с автомобилем     4279.0  400.0  9.347978\n",
      "операции с недвижимостью  10751.0  780.0  7.255139\n",
      "получение образования      3988.0  369.0  9.252758\n",
      "проведение свадьбы         2313.0  183.0  7.911803\n"
     ]
    },
    {
     "data": {
      "text/plain": [
       "Text(0, 0.5, 'Процент невозврата кредита')"
      ]
     },
     "execution_count": 25,
     "metadata": {},
     "output_type": "execute_result"
    },
    {
     "data": {
      "image/png": "[encoded data removed]",
      "text/plain": [
       "<Figure size 432x288 with 1 Axes>"
      ]
     },
     "metadata": {
      "needs_background": "light"
     },
     "output_type": "display_data"
    }
   ],
   "source": [
    "df = pd.DataFrame(data =[data.groupby('purpose_category')['debt'].count(), \n",
    "                        data.groupby('purpose_category')['debt'].sum(), \n",
    "                        (data.groupby('purpose_category')['debt'].sum()/data.groupby('purpose_category')['debt'].count() * 100)], \n",
    "                 index = ['count', 'sum', '%']).transpose()\n",
    "print(df)\n",
    "\n",
    "df['%'].sort_values(ascending = False).plot(kind = 'bar')\n",
    "plt.xlabel('Цели кредита', fontsize=10, fontweight='bold')\n",
    "plt.ylabel('Процент невозврата кредита', fontsize=10, fontweight='bold')\n"
   ]
  },
  {
   "cell_type": "code",
   "execution_count": 26,
   "id": "bc10b471",
   "metadata": {
    "scrolled": true
   },
   "outputs": [],
   "source": [
    "#df = pd.DataFrame(data =[data.groupby(['purpose_category', 'total_income_category'])['debt'].count(), \n",
    "#                        data.groupby(['purpose_category', 'total_income_category'])['debt'].sum(), \n",
    "#                        (data.groupby(['purpose_category', 'total_income_category'])['debt'].sum()/\n",
    "#                         data.groupby(['purpose_category', 'total_income_category'])['debt'].count() * 100)], \n",
    "#                 index = ['count', 'sum', '%']).transpose()\n",
    "#print(df)\n",
    "#\n",
    "#df['%'].plot(kind = 'bar')\n",
    "#plt.xlabel('Цели кредита', fontsize=10, fontweight='bold')\n",
    "#plt.ylabel('Процент невозврата кредита', fontsize=10, fontweight='bold')"
   ]
  },
  {
   "cell_type": "markdown",
   "id": "cf05ed63",
   "metadata": {
    "deletable": false,
    "id": "cf05ed63"
   },
   "source": [
    "**Вывод:** Исходя из представленных данных, можно сделать вывод о том, что зависимость между целями кредита и его возвратом в срок присутствует. Самым высоким процентом невозврата обладают заемщики, которые берут кредит на операции с автомобилем и на образование - это можно объяснить как более молодым возрастом заемщиков, так и отсутствием стабильного зароботка. Самым низкими показателями обладают заемщики, которые берут кредиты на свадьбу и на операции с недвижимстью - это можно объяснить ведением у семей совместного бюджета, который снимает часть финансовой нагрузки, более старший возраст заемщиков, более высокий уровень ответственности за себя, свою семью и свое имущество.\n",
    "При попытке группировки сразу по двум признакам (уровню дохода и цели на кредит) оказалось, что выборки слишком не равномерны и результаты не отражают реальную ситуацию, в связи с чем были удалены из исследования."
   ]
  },
  {
   "cell_type": "markdown",
   "id": "46c1f10b",
   "metadata": {
    "deletable": false,
    "editable": false,
    "id": "46c1f10b"
   },
   "source": [
    "#### 3.5 Приведите возможные причины появления пропусков в исходных данных."
   ]
  },
  {
   "cell_type": "code",
   "execution_count": 27,
   "id": "36c05fec",
   "metadata": {},
   "outputs": [
    {
     "name": "stdout",
     "output_type": "stream",
     "text": [
      "3133     False\n",
      "14798    False\n",
      "Name: total_income, dtype: bool\n"
     ]
    }
   ],
   "source": [
    "print(data[data['income_type'] == 'безработный']['total_income'].isna())"
   ]
  },
  {
   "cell_type": "markdown",
   "id": "3697d2a9",
   "metadata": {
    "deletable": false,
    "id": "3697d2a9"
   },
   "source": [
    "*Ответ:* В исходных данных были пропуски в столбце трудового стажа (\"days_employed\") и в столбце дохода (\"total_income\"), следует обратить внимание, что количество пропусков в обоих слобцах равно 2174 (10,1% - существенное количество данных, которое могло повлиять на достоверность исследования), значит характер пропусков не случаен и имеет под собой какую-то причину. Важно отметить, что в это число не входят безработные заемщики. Вполне вероятно, что люди, которые не имеют трудового стажа и дохода устроены неофициально или получают средства каким-либо иным способом."
   ]
  },
  {
   "cell_type": "markdown",
   "id": "09f1dedf",
   "metadata": {},
   "source": [
    "**Дополнение к ответу:**\n",
    "\n",
    "*Факторы возникновения пропусков:*\n",
    " -  Человеческий фактор (например: пропущенное поле email, неверная работа с данными и т.д.)\n",
    "\n",
    " -  Технический фактор (например: сбой при загрузке/выгрузке данных и т.д.)\n",
    "    \n",
    "*Пропуски бывают трёх типов:*\n",
    " -  Полностью случайные (независимые от других значений);\n",
    " -  Случайные (зависимые от других значений, но не от значений столбца);\n",
    " -  Неслучайные(зависимые от других значений, и от значений столбца)"
   ]
  },
  {
   "cell_type": "markdown",
   "id": "3137d257",
   "metadata": {
    "deletable": false,
    "editable": false,
    "id": "3137d257"
   },
   "source": [
    "#### 3.6 Объясните, почему заполнить пропуски медианным значением — лучшее решение для количественных переменных."
   ]
  },
  {
   "cell_type": "markdown",
   "id": "cf40012a",
   "metadata": {
    "deletable": false,
    "id": "cf40012a"
   },
   "source": [
    "*Ответ:* При отсутствии данных в количественных значениях есть риск получить недостоверную информацию при анализе, например измененное среднее, медиану, распределение, а также могут возникнуть технические сложности (различные ошибки в Python). Чтобы этого избежать, необходимо заполнять данные близкими по смыслу числами, которые не повлияют на расчеты и менее чувствительны к выбросам. Для этого хорошо подходит медиана."
   ]
  },
  {
   "cell_type": "markdown",
   "id": "57bc304e",
   "metadata": {
    "deletable": false,
    "editable": false,
    "id": "57bc304e"
   },
   "source": [
    "### Шаг 4: общий вывод."
   ]
  },
  {
   "cell_type": "markdown",
   "id": "1ab75d1c",
   "metadata": {
    "deletable": false,
    "id": "1ab75d1c"
   },
   "source": [
    "Подводя итог всему исследованию, необходимо сказать, что:\n",
    "\n",
    "1. В данных присутствовало множетсво ошибок:\n",
    "     - количество детей, которое могло быть отрицательным или двухзначным; \n",
    "     - количество рабочих дней, которое могло быть отрицательным или, как у безработных и пенсионеров, составлять \n",
    "       около 1000 лет;\n",
    "     - пропуски данных в стаже и уровне дохода, общая сумма которых превышает 10% от всех данных;\n",
    "     - разный регистр в столбце образования;\n",
    "     - многичесленные дубликаты и пропуски в данных.\n",
    "     \n",
    "     \n",
    "2. В ходе исследования было исправлено:\n",
    "     - количество детей, было заменено на вероятные варианты; \n",
    "     - количество рабочих дней было приведено к положительным значениям;\n",
    "     - пропуски данных в стаже и уровне дохода были заменены медианным значением;\n",
    "     - столбец образования был приведен к нижнему регистру;\n",
    "     - все дубликаты в данных были удалены.\n",
    "     \n",
    "     \n",
    "3. На основании уровня доходов и цели получения кредита были созданы два дополнительных категориальных столбеца, которые отражали уровень дохода заемщиков и унифицированную цель получения кредита, это значительно упростило дальнейшее исследование.\n",
    "\n",
    "\n",
    "4. Далее целью исследования было выявить есть ли зависимость:\n",
    "    \n",
    "    4.1. Между количеством детей и возвратом кредита в срок. \n",
    "    Вывод: зависимость присутствует, однако она слабовыраженная, т.к. на возврат кредита влияет множетсво других факторов.\n",
    "    \n",
    "    4.2. Между семейным положением и возвратом кредита в срок.\n",
    "    Вывод: существует некоторая взаимосвязь. Пока человек ответственен только за себя, он халатно относится в погашению долгов. Если же пара официально зарегестрирована в браке, процент неуплаты резко снижается. Самый низкий процент невозврата принадлежит вдовам/вдовцам.\n",
    "    \n",
    "    4.3.Между уровнем дохода и возвратом кредита в срок. \n",
    "    ~~Вывод: зависимость отсутствует. Самый высокий показатель невозврата кредитов в срок у группы E с самым низким уровнем дохода, однако самый низкий показатель у группы D, которая наиболее близка к E. Этот результат не поддается логике, возможно, в данных присутствуют ошибки.~~ \n",
    "    Новый вывод: Если удалить все несбалансированные значения, то зависимость присутствует: заемщики из группы B, имеют меньше проблем с возвратом кредита, чем, группа С, с более низкими доходами.\n",
    "    \n",
    "    4.4. Между целью кредита и возвратом кредита в срок. \n",
    "    Вывод: зависимость присутствует. Самым высоким процентом невозврата обладают заемщики, которые берут кредит на операции с автомобилем и на образование. Самым низкими показателями обладают заемщики, которые берут кредиты на свадьбу и на операции с недвижимстью."
   ]
  }
 ],
 "metadata": {
  "ExecuteTimeLog": [
   {
    "duration": 520,
    "start_time": "2023-02-02T04:05:05.991Z"
   },
   {
    "duration": 37,
    "start_time": "2023-02-02T04:05:18.758Z"
   },
   {
    "duration": 21,
    "start_time": "2023-02-02T04:05:25.987Z"
   },
   {
    "duration": 12,
    "start_time": "2023-02-02T04:06:16.091Z"
   },
   {
    "duration": 33,
    "start_time": "2023-02-02T04:06:18.348Z"
   },
   {
    "duration": 4,
    "start_time": "2023-02-02T04:06:32.891Z"
   },
   {
    "duration": 14,
    "start_time": "2023-02-02T04:06:38.950Z"
   },
   {
    "duration": 6,
    "start_time": "2023-02-02T04:06:54.619Z"
   },
   {
    "duration": 8,
    "start_time": "2023-02-02T04:07:00.435Z"
   },
   {
    "duration": 5,
    "start_time": "2023-02-02T04:07:02.156Z"
   },
   {
    "duration": 37,
    "start_time": "2023-02-02T04:07:06.052Z"
   },
   {
    "duration": 11,
    "start_time": "2023-02-02T04:07:08.395Z"
   },
   {
    "duration": 4,
    "start_time": "2023-02-02T04:07:12.020Z"
   },
   {
    "duration": 14,
    "start_time": "2023-02-02T04:07:13.079Z"
   },
   {
    "duration": 20,
    "start_time": "2023-02-02T04:07:13.739Z"
   },
   {
    "duration": 20,
    "start_time": "2023-02-02T04:07:14.147Z"
   },
   {
    "duration": 4,
    "start_time": "2023-02-02T04:07:29.030Z"
   },
   {
    "duration": 18,
    "start_time": "2023-02-02T04:07:35.436Z"
   },
   {
    "duration": 7,
    "start_time": "2023-02-02T04:07:38.452Z"
   },
   {
    "duration": 4,
    "start_time": "2023-02-02T04:08:05.821Z"
   },
   {
    "duration": 10,
    "start_time": "2023-02-02T04:08:06.628Z"
   },
   {
    "duration": 19,
    "start_time": "2023-02-02T04:09:01.421Z"
   },
   {
    "duration": 74,
    "start_time": "2023-02-02T04:17:17.977Z"
   },
   {
    "duration": 8,
    "start_time": "2023-02-02T04:17:25.212Z"
   },
   {
    "duration": 4,
    "start_time": "2023-02-02T04:17:31.898Z"
   },
   {
    "duration": 5,
    "start_time": "2023-02-02T04:21:23.694Z"
   },
   {
    "duration": 8,
    "start_time": "2023-02-02T04:22:27.482Z"
   },
   {
    "duration": 17,
    "start_time": "2023-02-02T04:22:52.440Z"
   },
   {
    "duration": 8,
    "start_time": "2023-02-02T04:23:04.423Z"
   },
   {
    "duration": 574,
    "start_time": "2023-02-02T04:24:29.800Z"
   },
   {
    "duration": 115,
    "start_time": "2023-02-02T04:25:00.457Z"
   },
   {
    "duration": 120,
    "start_time": "2023-02-02T04:25:41.500Z"
   },
   {
    "duration": 151,
    "start_time": "2023-02-02T04:26:30.226Z"
   },
   {
    "duration": 115,
    "start_time": "2023-02-02T04:26:38.896Z"
   },
   {
    "duration": 187,
    "start_time": "2023-02-02T04:27:03.017Z"
   },
   {
    "duration": 116,
    "start_time": "2023-02-02T04:28:46.683Z"
   },
   {
    "duration": 135,
    "start_time": "2023-02-02T04:29:37.524Z"
   },
   {
    "duration": 16,
    "start_time": "2023-02-02T04:32:23.284Z"
   },
   {
    "duration": 5,
    "start_time": "2023-02-02T04:33:16.007Z"
   },
   {
    "duration": 15,
    "start_time": "2023-02-02T04:34:22.973Z"
   },
   {
    "duration": 6,
    "start_time": "2023-02-02T04:35:18.335Z"
   },
   {
    "duration": 6,
    "start_time": "2023-02-02T04:35:57.841Z"
   },
   {
    "duration": 6,
    "start_time": "2023-02-02T04:36:05.432Z"
   },
   {
    "duration": 8,
    "start_time": "2023-02-02T04:37:10.257Z"
   },
   {
    "duration": 75,
    "start_time": "2023-02-02T04:37:26.283Z"
   },
   {
    "duration": 73,
    "start_time": "2023-02-02T04:38:28.330Z"
   },
   {
    "duration": 97,
    "start_time": "2023-02-02T04:42:48.491Z"
   },
   {
    "duration": 77,
    "start_time": "2023-02-02T04:43:10.756Z"
   },
   {
    "duration": 90,
    "start_time": "2023-02-02T04:43:44.976Z"
   },
   {
    "duration": 88,
    "start_time": "2023-02-02T04:45:55.785Z"
   },
   {
    "duration": 13,
    "start_time": "2023-02-02T04:46:26.728Z"
   },
   {
    "duration": 11,
    "start_time": "2023-02-02T04:52:11.285Z"
   },
   {
    "duration": 7,
    "start_time": "2023-02-02T04:57:36.902Z"
   },
   {
    "duration": 8,
    "start_time": "2023-02-02T04:57:55.889Z"
   },
   {
    "duration": 77,
    "start_time": "2023-02-02T04:58:13.189Z"
   },
   {
    "duration": 8,
    "start_time": "2023-02-02T04:58:21.055Z"
   },
   {
    "duration": 4,
    "start_time": "2023-02-02T04:59:40.121Z"
   },
   {
    "duration": 16,
    "start_time": "2023-02-02T04:59:47.005Z"
   },
   {
    "duration": 4,
    "start_time": "2023-02-02T04:59:53.008Z"
   },
   {
    "duration": 4,
    "start_time": "2023-02-02T05:00:01.056Z"
   },
   {
    "duration": 120,
    "start_time": "2023-02-02T05:00:46.403Z"
   },
   {
    "duration": 9,
    "start_time": "2023-02-02T05:01:05.910Z"
   },
   {
    "duration": 8,
    "start_time": "2023-02-02T05:01:47.314Z"
   },
   {
    "duration": 8,
    "start_time": "2023-02-02T05:52:06.787Z"
   },
   {
    "duration": 117,
    "start_time": "2023-02-02T05:53:43.184Z"
   },
   {
    "duration": 4,
    "start_time": "2023-02-02T05:55:02.643Z"
   },
   {
    "duration": 2,
    "start_time": "2023-02-02T05:55:03.246Z"
   },
   {
    "duration": 115,
    "start_time": "2023-02-02T05:55:08.615Z"
   },
   {
    "duration": 16,
    "start_time": "2023-02-02T05:59:10.505Z"
   },
   {
    "duration": 144,
    "start_time": "2023-02-02T06:06:00.309Z"
   },
   {
    "duration": 144,
    "start_time": "2023-02-02T06:06:10.037Z"
   },
   {
    "duration": 141,
    "start_time": "2023-02-02T06:20:56.001Z"
   },
   {
    "duration": 152,
    "start_time": "2023-02-02T06:26:46.920Z"
   },
   {
    "duration": 22,
    "start_time": "2023-02-02T06:29:38.414Z"
   },
   {
    "duration": 7,
    "start_time": "2023-02-02T06:29:52.679Z"
   },
   {
    "duration": 7,
    "start_time": "2023-02-02T06:30:09.159Z"
   },
   {
    "duration": 11,
    "start_time": "2023-02-02T06:30:40.584Z"
   },
   {
    "duration": 22,
    "start_time": "2023-02-02T06:30:53.430Z"
   },
   {
    "duration": 614,
    "start_time": "2023-02-02T06:35:16.727Z"
   },
   {
    "duration": 166,
    "start_time": "2023-02-02T06:39:15.350Z"
   },
   {
    "duration": 170,
    "start_time": "2023-02-02T06:39:24.735Z"
   },
   {
    "duration": 175,
    "start_time": "2023-02-02T06:39:34.437Z"
   },
   {
    "duration": 159,
    "start_time": "2023-02-02T07:10:53.673Z"
   },
   {
    "duration": 165,
    "start_time": "2023-02-02T07:13:15.690Z"
   },
   {
    "duration": 271,
    "start_time": "2023-02-02T07:13:26.410Z"
   },
   {
    "duration": 76,
    "start_time": "2023-02-02T07:13:52.628Z"
   },
   {
    "duration": 186,
    "start_time": "2023-02-02T07:14:45.902Z"
   },
   {
    "duration": 174,
    "start_time": "2023-02-02T07:15:14.940Z"
   },
   {
    "duration": 169,
    "start_time": "2023-02-02T07:15:33.573Z"
   },
   {
    "duration": 182,
    "start_time": "2023-02-02T07:17:34.573Z"
   },
   {
    "duration": 177,
    "start_time": "2023-02-02T07:20:38.282Z"
   },
   {
    "duration": 208,
    "start_time": "2023-02-02T07:32:45.832Z"
   },
   {
    "duration": 80,
    "start_time": "2023-02-02T07:34:19.471Z"
   },
   {
    "duration": 176,
    "start_time": "2023-02-02T07:35:27.185Z"
   },
   {
    "duration": 180,
    "start_time": "2023-02-02T07:36:15.400Z"
   },
   {
    "duration": 176,
    "start_time": "2023-02-02T07:36:27.083Z"
   },
   {
    "duration": 193,
    "start_time": "2023-02-02T07:38:57.210Z"
   },
   {
    "duration": 195,
    "start_time": "2023-02-02T07:39:03.780Z"
   },
   {
    "duration": 185,
    "start_time": "2023-02-02T07:39:26.276Z"
   },
   {
    "duration": 239,
    "start_time": "2023-02-02T07:40:18.788Z"
   },
   {
    "duration": 190,
    "start_time": "2023-02-02T07:40:46.772Z"
   },
   {
    "duration": 309,
    "start_time": "2023-02-02T07:42:18.037Z"
   },
   {
    "duration": 166,
    "start_time": "2023-02-02T07:43:01.653Z"
   },
   {
    "duration": 170,
    "start_time": "2023-02-02T07:43:33.846Z"
   },
   {
    "duration": 170,
    "start_time": "2023-02-02T07:43:49.806Z"
   },
   {
    "duration": 187,
    "start_time": "2023-02-02T07:43:56.518Z"
   },
   {
    "duration": 171,
    "start_time": "2023-02-02T07:44:05.254Z"
   },
   {
    "duration": 200,
    "start_time": "2023-02-02T07:44:27.254Z"
   },
   {
    "duration": 164,
    "start_time": "2023-02-02T07:44:36.230Z"
   },
   {
    "duration": 87,
    "start_time": "2023-02-02T07:44:44.278Z"
   },
   {
    "duration": 168,
    "start_time": "2023-02-02T07:44:50.782Z"
   },
   {
    "duration": 179,
    "start_time": "2023-02-02T07:45:31.847Z"
   },
   {
    "duration": 160,
    "start_time": "2023-02-02T07:45:42.014Z"
   },
   {
    "duration": 167,
    "start_time": "2023-02-02T07:47:02.473Z"
   },
   {
    "duration": 193,
    "start_time": "2023-02-02T07:47:49.120Z"
   },
   {
    "duration": 240,
    "start_time": "2023-02-02T07:48:08.782Z"
   },
   {
    "duration": 181,
    "start_time": "2023-02-02T07:48:36.681Z"
   },
   {
    "duration": 188,
    "start_time": "2023-02-02T07:48:49.993Z"
   },
   {
    "duration": 301,
    "start_time": "2023-02-02T07:49:46.521Z"
   },
   {
    "duration": 158,
    "start_time": "2023-02-02T07:52:19.404Z"
   },
   {
    "duration": 162,
    "start_time": "2023-02-02T07:52:38.987Z"
   },
   {
    "duration": 161,
    "start_time": "2023-02-02T07:53:21.692Z"
   },
   {
    "duration": 149,
    "start_time": "2023-02-02T07:53:38.381Z"
   },
   {
    "duration": 170,
    "start_time": "2023-02-02T07:53:56.132Z"
   },
   {
    "duration": 153,
    "start_time": "2023-02-02T07:54:40.088Z"
   },
   {
    "duration": 168,
    "start_time": "2023-02-02T07:54:47.957Z"
   },
   {
    "duration": 161,
    "start_time": "2023-02-02T07:54:55.692Z"
   },
   {
    "duration": 159,
    "start_time": "2023-02-02T07:55:04.189Z"
   },
   {
    "duration": 172,
    "start_time": "2023-02-02T07:55:47.638Z"
   },
   {
    "duration": 165,
    "start_time": "2023-02-02T07:56:13.654Z"
   },
   {
    "duration": 156,
    "start_time": "2023-02-02T07:56:49.103Z"
   },
   {
    "duration": 203,
    "start_time": "2023-02-02T08:54:24.103Z"
   },
   {
    "duration": 206,
    "start_time": "2023-02-02T08:54:34.622Z"
   },
   {
    "duration": 24,
    "start_time": "2023-02-02T08:57:33.098Z"
   },
   {
    "duration": 23,
    "start_time": "2023-02-02T08:57:44.305Z"
   },
   {
    "duration": 22,
    "start_time": "2023-02-02T08:57:53.312Z"
   },
   {
    "duration": 24,
    "start_time": "2023-02-02T08:57:58.070Z"
   },
   {
    "duration": 36,
    "start_time": "2023-02-02T08:58:46.939Z"
   },
   {
    "duration": 22,
    "start_time": "2023-02-02T08:59:05.214Z"
   },
   {
    "duration": 318,
    "start_time": "2023-02-02T08:59:24.071Z"
   },
   {
    "duration": 239,
    "start_time": "2023-02-02T08:59:44.343Z"
   },
   {
    "duration": 214,
    "start_time": "2023-02-02T08:59:48.411Z"
   },
   {
    "duration": 193,
    "start_time": "2023-02-02T09:00:50.331Z"
   },
   {
    "duration": 203,
    "start_time": "2023-02-02T09:01:01.210Z"
   },
   {
    "duration": 98,
    "start_time": "2023-02-02T09:03:08.693Z"
   },
   {
    "duration": 214,
    "start_time": "2023-02-02T09:03:30.473Z"
   },
   {
    "duration": 119,
    "start_time": "2023-02-02T09:06:41.703Z"
   },
   {
    "duration": 212,
    "start_time": "2023-02-02T09:07:15.758Z"
   },
   {
    "duration": 194,
    "start_time": "2023-02-02T09:07:27.479Z"
   },
   {
    "duration": 221,
    "start_time": "2023-02-02T09:08:21.505Z"
   },
   {
    "duration": 274,
    "start_time": "2023-02-02T09:08:28.963Z"
   },
   {
    "duration": 363,
    "start_time": "2023-02-02T09:08:34.920Z"
   },
   {
    "duration": 221,
    "start_time": "2023-02-02T09:09:42.298Z"
   },
   {
    "duration": 222,
    "start_time": "2023-02-02T09:09:53.887Z"
   },
   {
    "duration": 246,
    "start_time": "2023-02-02T09:10:31.717Z"
   },
   {
    "duration": 261,
    "start_time": "2023-02-02T09:10:44.018Z"
   },
   {
    "duration": 235,
    "start_time": "2023-02-02T09:12:03.565Z"
   },
   {
    "duration": 252,
    "start_time": "2023-02-02T09:12:17.276Z"
   },
   {
    "duration": 75,
    "start_time": "2023-02-02T09:19:01.545Z"
   },
   {
    "duration": 272,
    "start_time": "2023-02-02T09:19:10.915Z"
   },
   {
    "duration": 238,
    "start_time": "2023-02-02T09:19:27.505Z"
   },
   {
    "duration": 246,
    "start_time": "2023-02-02T09:19:46.027Z"
   },
   {
    "duration": 53,
    "start_time": "2023-02-02T11:38:20.705Z"
   },
   {
    "duration": 693,
    "start_time": "2023-02-02T11:39:07.985Z"
   },
   {
    "duration": 51,
    "start_time": "2023-02-02T11:41:12.887Z"
   },
   {
    "duration": 488,
    "start_time": "2023-02-02T11:41:25.967Z"
   },
   {
    "duration": 21,
    "start_time": "2023-02-02T11:41:26.458Z"
   },
   {
    "duration": 18,
    "start_time": "2023-02-02T11:41:26.620Z"
   },
   {
    "duration": 11,
    "start_time": "2023-02-02T11:41:27.302Z"
   },
   {
    "duration": 38,
    "start_time": "2023-02-02T11:41:27.646Z"
   },
   {
    "duration": 5,
    "start_time": "2023-02-02T11:41:28.181Z"
   },
   {
    "duration": 8,
    "start_time": "2023-02-02T11:41:28.533Z"
   },
   {
    "duration": 5,
    "start_time": "2023-02-02T11:41:30.414Z"
   },
   {
    "duration": 8,
    "start_time": "2023-02-02T11:41:30.749Z"
   },
   {
    "duration": 4,
    "start_time": "2023-02-02T11:41:31.103Z"
   },
   {
    "duration": 37,
    "start_time": "2023-02-02T11:41:31.598Z"
   },
   {
    "duration": 10,
    "start_time": "2023-02-02T11:41:31.950Z"
   },
   {
    "duration": 4,
    "start_time": "2023-02-02T11:41:32.470Z"
   },
   {
    "duration": 12,
    "start_time": "2023-02-02T11:41:33.237Z"
   },
   {
    "duration": 21,
    "start_time": "2023-02-02T11:41:33.910Z"
   },
   {
    "duration": 19,
    "start_time": "2023-02-02T11:41:34.439Z"
   },
   {
    "duration": 3,
    "start_time": "2023-02-02T11:41:36.542Z"
   },
   {
    "duration": 11,
    "start_time": "2023-02-02T11:41:36.822Z"
   },
   {
    "duration": 6,
    "start_time": "2023-02-02T11:41:38.022Z"
   },
   {
    "duration": 3,
    "start_time": "2023-02-02T11:41:38.486Z"
   },
   {
    "duration": 11,
    "start_time": "2023-02-02T11:41:38.631Z"
   },
   {
    "duration": 38,
    "start_time": "2023-02-02T11:41:43.679Z"
   },
   {
    "duration": 286,
    "start_time": "2023-02-02T11:41:56.576Z"
   },
   {
    "duration": 263,
    "start_time": "2023-02-02T11:44:51.210Z"
   },
   {
    "duration": 263,
    "start_time": "2023-02-02T11:45:08.521Z"
   },
   {
    "duration": 248,
    "start_time": "2023-02-02T11:45:31.505Z"
   },
   {
    "duration": 266,
    "start_time": "2023-02-02T11:46:40.786Z"
   },
   {
    "duration": 248,
    "start_time": "2023-02-02T11:46:52.583Z"
   },
   {
    "duration": 67,
    "start_time": "2023-02-02T11:50:04.847Z"
   },
   {
    "duration": 50,
    "start_time": "2023-02-02T11:50:12.301Z"
   },
   {
    "duration": 53,
    "start_time": "2023-02-02T11:50:24.527Z"
   },
   {
    "duration": 57,
    "start_time": "2023-02-02T11:51:01.157Z"
   },
   {
    "duration": 703,
    "start_time": "2023-02-02T16:32:58.152Z"
   },
   {
    "duration": 23,
    "start_time": "2023-02-02T16:32:58.857Z"
   },
   {
    "duration": 17,
    "start_time": "2023-02-02T16:32:58.881Z"
   },
   {
    "duration": 10,
    "start_time": "2023-02-02T16:32:59.819Z"
   },
   {
    "duration": 43,
    "start_time": "2023-02-02T16:32:59.889Z"
   },
   {
    "duration": 4,
    "start_time": "2023-02-02T16:33:00.423Z"
   },
   {
    "duration": 9,
    "start_time": "2023-02-02T16:33:00.781Z"
   },
   {
    "duration": 4,
    "start_time": "2023-02-02T16:33:01.328Z"
   },
   {
    "duration": 9,
    "start_time": "2023-02-02T16:33:01.688Z"
   },
   {
    "duration": 6,
    "start_time": "2023-02-02T16:33:02.055Z"
   },
   {
    "duration": 37,
    "start_time": "2023-02-02T16:33:02.600Z"
   },
   {
    "duration": 9,
    "start_time": "2023-02-02T16:33:02.970Z"
   },
   {
    "duration": 4,
    "start_time": "2023-02-02T16:33:03.809Z"
   },
   {
    "duration": 12,
    "start_time": "2023-02-02T16:33:04.080Z"
   },
   {
    "duration": 30,
    "start_time": "2023-02-02T16:33:04.774Z"
   },
   {
    "duration": 17,
    "start_time": "2023-02-02T16:33:04.807Z"
   },
   {
    "duration": 4,
    "start_time": "2023-02-02T16:33:09.934Z"
   },
   {
    "duration": 18,
    "start_time": "2023-02-02T16:33:10.600Z"
   },
   {
    "duration": 7,
    "start_time": "2023-02-02T16:33:10.933Z"
   },
   {
    "duration": 5,
    "start_time": "2023-02-02T16:33:15.433Z"
   },
   {
    "duration": 22,
    "start_time": "2023-02-02T16:33:16.697Z"
   },
   {
    "duration": 52,
    "start_time": "2023-02-02T16:33:18.974Z"
   },
   {
    "duration": 867,
    "start_time": "2023-02-02T16:33:38.681Z"
   },
   {
    "duration": 213,
    "start_time": "2023-02-02T16:35:01.315Z"
   },
   {
    "duration": 233,
    "start_time": "2023-02-02T16:35:11.396Z"
   },
   {
    "duration": 310,
    "start_time": "2023-02-02T16:35:54.874Z"
   },
   {
    "duration": 239,
    "start_time": "2023-02-02T16:37:10.572Z"
   },
   {
    "duration": 253,
    "start_time": "2023-02-02T16:40:11.293Z"
   },
   {
    "duration": 46,
    "start_time": "2023-02-02T16:40:29.116Z"
   },
   {
    "duration": 259,
    "start_time": "2023-02-02T16:40:40.061Z"
   },
   {
    "duration": 39,
    "start_time": "2023-02-02T16:41:47.470Z"
   },
   {
    "duration": 23,
    "start_time": "2023-02-02T16:42:09.990Z"
   },
   {
    "duration": 159,
    "start_time": "2023-02-02T16:42:22.765Z"
   },
   {
    "duration": 163,
    "start_time": "2023-02-02T16:42:37.470Z"
   },
   {
    "duration": 151,
    "start_time": "2023-02-02T16:42:44.591Z"
   },
   {
    "duration": 152,
    "start_time": "2023-02-02T16:42:57.607Z"
   },
   {
    "duration": 262,
    "start_time": "2023-02-02T16:44:08.638Z"
   },
   {
    "duration": 137,
    "start_time": "2023-02-02T16:44:12.837Z"
   },
   {
    "duration": 19,
    "start_time": "2023-02-02T16:46:35.199Z"
   },
   {
    "duration": 10,
    "start_time": "2023-02-02T16:48:07.285Z"
   },
   {
    "duration": 14,
    "start_time": "2023-02-02T16:48:23.073Z"
   },
   {
    "duration": 10,
    "start_time": "2023-02-02T16:48:35.793Z"
   },
   {
    "duration": 153,
    "start_time": "2023-02-02T16:50:00.051Z"
   },
   {
    "duration": 335,
    "start_time": "2023-02-02T16:52:58.496Z"
   },
   {
    "duration": 258,
    "start_time": "2023-02-02T16:53:50.720Z"
   },
   {
    "duration": 250,
    "start_time": "2023-02-02T16:57:00.983Z"
   },
   {
    "duration": 250,
    "start_time": "2023-02-02T16:57:05.286Z"
   },
   {
    "duration": 246,
    "start_time": "2023-02-02T16:57:28.359Z"
   },
   {
    "duration": 244,
    "start_time": "2023-02-02T16:57:53.594Z"
   },
   {
    "duration": 253,
    "start_time": "2023-02-02T16:58:33.800Z"
   },
   {
    "duration": 250,
    "start_time": "2023-02-02T16:58:45.657Z"
   },
   {
    "duration": 143,
    "start_time": "2023-02-02T16:59:45.107Z"
   },
   {
    "duration": 48,
    "start_time": "2023-02-03T05:07:49.577Z"
   },
   {
    "duration": 508,
    "start_time": "2023-02-03T05:07:57.084Z"
   },
   {
    "duration": 21,
    "start_time": "2023-02-03T05:07:57.593Z"
   },
   {
    "duration": 14,
    "start_time": "2023-02-03T05:07:57.757Z"
   },
   {
    "duration": 9,
    "start_time": "2023-02-03T05:07:58.410Z"
   },
   {
    "duration": 37,
    "start_time": "2023-02-03T05:07:58.763Z"
   },
   {
    "duration": 3,
    "start_time": "2023-02-03T05:07:59.266Z"
   },
   {
    "duration": 8,
    "start_time": "2023-02-03T05:07:59.626Z"
   },
   {
    "duration": 5,
    "start_time": "2023-02-03T05:08:00.162Z"
   },
   {
    "duration": 8,
    "start_time": "2023-02-03T05:08:00.522Z"
   },
   {
    "duration": 5,
    "start_time": "2023-02-03T05:08:00.884Z"
   },
   {
    "duration": 30,
    "start_time": "2023-02-03T05:08:01.427Z"
   },
   {
    "duration": 9,
    "start_time": "2023-02-03T05:08:01.788Z"
   },
   {
    "duration": 4,
    "start_time": "2023-02-03T05:08:02.330Z"
   },
   {
    "duration": 11,
    "start_time": "2023-02-03T05:08:02.850Z"
   },
   {
    "duration": 19,
    "start_time": "2023-02-03T05:08:03.210Z"
   },
   {
    "duration": 17,
    "start_time": "2023-02-03T05:08:03.385Z"
   },
   {
    "duration": 4,
    "start_time": "2023-02-03T05:08:04.961Z"
   },
   {
    "duration": 10,
    "start_time": "2023-02-03T05:08:05.434Z"
   },
   {
    "duration": 7,
    "start_time": "2023-02-03T05:08:07.004Z"
   },
   {
    "duration": 4,
    "start_time": "2023-02-03T05:08:07.298Z"
   },
   {
    "duration": 8,
    "start_time": "2023-02-03T05:08:07.922Z"
   },
   {
    "duration": 686,
    "start_time": "2023-02-03T05:08:08.962Z"
   },
   {
    "duration": 160,
    "start_time": "2023-02-03T05:08:12.218Z"
   },
   {
    "duration": 133,
    "start_time": "2023-02-03T05:08:14.895Z"
   },
   {
    "duration": 188,
    "start_time": "2023-02-03T05:12:02.965Z"
   },
   {
    "duration": 40,
    "start_time": "2023-02-03T05:21:52.533Z"
   },
   {
    "duration": 138,
    "start_time": "2023-02-03T05:22:26.541Z"
   },
   {
    "duration": 10,
    "start_time": "2023-02-03T05:26:20.416Z"
   },
   {
    "duration": 4,
    "start_time": "2023-02-03T05:27:36.883Z"
   },
   {
    "duration": 11,
    "start_time": "2023-02-03T05:27:43.553Z"
   },
   {
    "duration": 272,
    "start_time": "2023-02-03T05:40:17.941Z"
   },
   {
    "duration": 276,
    "start_time": "2023-02-03T05:40:35.813Z"
   },
   {
    "duration": 80,
    "start_time": "2023-02-03T05:42:24.028Z"
   },
   {
    "duration": 88,
    "start_time": "2023-02-03T05:42:49.066Z"
   },
   {
    "duration": 255,
    "start_time": "2023-02-03T05:44:59.714Z"
   },
   {
    "duration": 283,
    "start_time": "2023-02-03T05:45:07.533Z"
   },
   {
    "duration": 307,
    "start_time": "2023-02-03T05:56:52.829Z"
   },
   {
    "duration": 300,
    "start_time": "2023-02-03T05:56:58.589Z"
   },
   {
    "duration": 291,
    "start_time": "2023-02-03T05:57:22.838Z"
   },
   {
    "duration": 2,
    "start_time": "2023-02-03T05:57:31.514Z"
   },
   {
    "duration": 139,
    "start_time": "2023-02-03T05:58:35.914Z"
   },
   {
    "duration": 359,
    "start_time": "2023-02-03T05:58:39.038Z"
   },
   {
    "duration": 389,
    "start_time": "2023-02-03T05:59:43.930Z"
   },
   {
    "duration": 296,
    "start_time": "2023-02-03T06:00:12.551Z"
   },
   {
    "duration": 267,
    "start_time": "2023-02-03T06:00:21.279Z"
   },
   {
    "duration": 267,
    "start_time": "2023-02-03T06:00:47.456Z"
   },
   {
    "duration": 286,
    "start_time": "2023-02-03T06:10:59.192Z"
   },
   {
    "duration": 265,
    "start_time": "2023-02-03T06:11:08.464Z"
   },
   {
    "duration": 288,
    "start_time": "2023-02-03T06:13:27.168Z"
   },
   {
    "duration": 3,
    "start_time": "2023-02-03T06:17:40.532Z"
   },
   {
    "duration": 298,
    "start_time": "2023-02-03T06:29:33.640Z"
   },
   {
    "duration": 2,
    "start_time": "2023-02-03T06:30:25.591Z"
   },
   {
    "duration": 15,
    "start_time": "2023-02-03T06:32:16.345Z"
   },
   {
    "duration": 6,
    "start_time": "2023-02-03T06:52:24.164Z"
   },
   {
    "duration": 12,
    "start_time": "2023-02-03T06:53:18.084Z"
   },
   {
    "duration": 9,
    "start_time": "2023-02-03T06:53:37.121Z"
   },
   {
    "duration": 9,
    "start_time": "2023-02-03T06:54:08.037Z"
   },
   {
    "duration": 10,
    "start_time": "2023-02-03T06:58:46.977Z"
   },
   {
    "duration": 7,
    "start_time": "2023-02-03T06:59:24.578Z"
   },
   {
    "duration": 15,
    "start_time": "2023-02-03T07:12:34.515Z"
   },
   {
    "duration": 12,
    "start_time": "2023-02-03T07:12:39.106Z"
   },
   {
    "duration": 14,
    "start_time": "2023-02-03T07:13:38.997Z"
   },
   {
    "duration": 16,
    "start_time": "2023-02-03T07:13:50.636Z"
   },
   {
    "duration": 69,
    "start_time": "2023-02-03T07:13:53.196Z"
   },
   {
    "duration": 9,
    "start_time": "2023-02-03T07:13:57.356Z"
   },
   {
    "duration": 65,
    "start_time": "2023-02-03T07:14:22.853Z"
   },
   {
    "duration": 15,
    "start_time": "2023-02-03T07:14:23.552Z"
   },
   {
    "duration": 15,
    "start_time": "2023-02-03T07:14:25.564Z"
   },
   {
    "duration": 9,
    "start_time": "2023-02-03T07:14:27.924Z"
   },
   {
    "duration": 14,
    "start_time": "2023-02-03T07:16:35.909Z"
   },
   {
    "duration": 10,
    "start_time": "2023-02-03T07:17:07.040Z"
   },
   {
    "duration": 12,
    "start_time": "2023-02-03T07:17:10.574Z"
   },
   {
    "duration": 9,
    "start_time": "2023-02-03T07:18:46.231Z"
   },
   {
    "duration": 10,
    "start_time": "2023-02-03T07:19:00.584Z"
   },
   {
    "duration": 11,
    "start_time": "2023-02-03T07:19:09.279Z"
   },
   {
    "duration": 11,
    "start_time": "2023-02-03T07:19:38.352Z"
   },
   {
    "duration": 10,
    "start_time": "2023-02-03T07:19:44.401Z"
   },
   {
    "duration": 9,
    "start_time": "2023-02-03T07:20:03.721Z"
   },
   {
    "duration": 66,
    "start_time": "2023-02-03T07:20:14.264Z"
   },
   {
    "duration": 17,
    "start_time": "2023-02-03T07:20:14.592Z"
   },
   {
    "duration": 16,
    "start_time": "2023-02-03T07:20:14.912Z"
   },
   {
    "duration": 12,
    "start_time": "2023-02-03T07:20:15.545Z"
   },
   {
    "duration": 44,
    "start_time": "2023-02-03T07:20:16.576Z"
   },
   {
    "duration": 4,
    "start_time": "2023-02-03T07:20:17.096Z"
   },
   {
    "duration": 8,
    "start_time": "2023-02-03T07:20:17.442Z"
   },
   {
    "duration": 5,
    "start_time": "2023-02-03T07:20:17.952Z"
   },
   {
    "duration": 6,
    "start_time": "2023-02-03T07:20:18.304Z"
   },
   {
    "duration": 6,
    "start_time": "2023-02-03T07:20:18.656Z"
   },
   {
    "duration": 31,
    "start_time": "2023-02-03T07:20:19.176Z"
   },
   {
    "duration": 11,
    "start_time": "2023-02-03T07:20:19.528Z"
   },
   {
    "duration": 4,
    "start_time": "2023-02-03T07:20:20.063Z"
   },
   {
    "duration": 11,
    "start_time": "2023-02-03T07:20:20.584Z"
   },
   {
    "duration": 19,
    "start_time": "2023-02-03T07:20:20.944Z"
   },
   {
    "duration": 19,
    "start_time": "2023-02-03T07:20:21.128Z"
   },
   {
    "duration": 3,
    "start_time": "2023-02-03T07:20:21.665Z"
   },
   {
    "duration": 8,
    "start_time": "2023-02-03T07:20:21.842Z"
   },
   {
    "duration": 5,
    "start_time": "2023-02-03T07:20:22.200Z"
   },
   {
    "duration": 4,
    "start_time": "2023-02-03T07:20:22.559Z"
   },
   {
    "duration": 9,
    "start_time": "2023-02-03T07:20:22.752Z"
   },
   {
    "duration": 251,
    "start_time": "2023-02-03T07:20:23.280Z"
   },
   {
    "duration": 167,
    "start_time": "2023-02-03T07:20:23.817Z"
   },
   {
    "duration": 119,
    "start_time": "2023-02-03T07:20:27.480Z"
   },
   {
    "duration": 241,
    "start_time": "2023-02-03T07:20:29.425Z"
   },
   {
    "duration": 3,
    "start_time": "2023-02-03T07:20:30.210Z"
   },
   {
    "duration": 8,
    "start_time": "2023-02-03T07:20:31.665Z"
   },
   {
    "duration": 14,
    "start_time": "2023-02-03T07:21:47.155Z"
   },
   {
    "duration": 109,
    "start_time": "2023-02-03T07:22:16.602Z"
   },
   {
    "duration": 11,
    "start_time": "2023-02-03T07:22:22.818Z"
   },
   {
    "duration": 84,
    "start_time": "2023-02-03T09:34:19.464Z"
   },
   {
    "duration": 64,
    "start_time": "2023-02-03T11:00:42.950Z"
   },
   {
    "duration": 17,
    "start_time": "2023-02-03T11:00:43.282Z"
   },
   {
    "duration": 15,
    "start_time": "2023-02-03T11:00:43.590Z"
   },
   {
    "duration": 9,
    "start_time": "2023-02-03T11:00:44.263Z"
   },
   {
    "duration": 31,
    "start_time": "2023-02-03T11:00:44.597Z"
   },
   {
    "duration": 3,
    "start_time": "2023-02-03T11:00:45.110Z"
   },
   {
    "duration": 8,
    "start_time": "2023-02-03T11:00:45.630Z"
   },
   {
    "duration": 5,
    "start_time": "2023-02-03T11:00:46.157Z"
   },
   {
    "duration": 5,
    "start_time": "2023-02-03T11:00:46.515Z"
   },
   {
    "duration": 5,
    "start_time": "2023-02-03T11:00:46.888Z"
   },
   {
    "duration": 34,
    "start_time": "2023-02-03T11:00:47.405Z"
   },
   {
    "duration": 10,
    "start_time": "2023-02-03T11:00:47.766Z"
   },
   {
    "duration": 4,
    "start_time": "2023-02-03T11:00:48.311Z"
   },
   {
    "duration": 11,
    "start_time": "2023-02-03T11:00:49.109Z"
   },
   {
    "duration": 20,
    "start_time": "2023-02-03T11:00:49.229Z"
   },
   {
    "duration": 18,
    "start_time": "2023-02-03T11:00:49.414Z"
   },
   {
    "duration": 4,
    "start_time": "2023-02-03T11:00:50.125Z"
   },
   {
    "duration": 9,
    "start_time": "2023-02-03T11:00:50.301Z"
   },
   {
    "duration": 5,
    "start_time": "2023-02-03T11:00:50.672Z"
   },
   {
    "duration": 4,
    "start_time": "2023-02-03T11:00:51.053Z"
   },
   {
    "duration": 9,
    "start_time": "2023-02-03T11:00:51.237Z"
   },
   {
    "duration": 264,
    "start_time": "2023-02-03T11:00:51.798Z"
   },
   {
    "duration": 154,
    "start_time": "2023-02-03T11:00:52.375Z"
   },
   {
    "duration": 118,
    "start_time": "2023-02-03T11:00:52.944Z"
   },
   {
    "duration": 129,
    "start_time": "2023-02-03T11:00:53.741Z"
   },
   {
    "duration": 3,
    "start_time": "2023-02-03T11:00:53.919Z"
   },
   {
    "duration": 8,
    "start_time": "2023-02-03T11:00:55.062Z"
   },
   {
    "duration": 491,
    "start_time": "2023-02-04T05:45:15.599Z"
   },
   {
    "duration": 21,
    "start_time": "2023-02-04T05:45:16.100Z"
   },
   {
    "duration": 14,
    "start_time": "2023-02-04T05:45:16.462Z"
   },
   {
    "duration": 8,
    "start_time": "2023-02-04T05:45:17.243Z"
   },
   {
    "duration": 30,
    "start_time": "2023-02-04T05:45:17.592Z"
   },
   {
    "duration": 3,
    "start_time": "2023-02-04T05:45:18.288Z"
   },
   {
    "duration": 7,
    "start_time": "2023-02-04T05:45:18.857Z"
   },
   {
    "duration": 4,
    "start_time": "2023-02-04T05:45:19.374Z"
   },
   {
    "duration": 6,
    "start_time": "2023-02-04T05:45:19.707Z"
   },
   {
    "duration": 4,
    "start_time": "2023-02-04T05:45:20.049Z"
   },
   {
    "duration": 29,
    "start_time": "2023-02-04T05:45:20.572Z"
   },
   {
    "duration": 9,
    "start_time": "2023-02-04T05:45:20.913Z"
   },
   {
    "duration": 4,
    "start_time": "2023-02-04T05:45:21.420Z"
   },
   {
    "duration": 10,
    "start_time": "2023-02-04T05:45:21.952Z"
   },
   {
    "duration": 19,
    "start_time": "2023-02-04T05:45:22.307Z"
   },
   {
    "duration": 19,
    "start_time": "2023-02-04T05:45:22.499Z"
   },
   {
    "duration": 3,
    "start_time": "2023-02-04T05:45:23.423Z"
   },
   {
    "duration": 10,
    "start_time": "2023-02-04T05:45:23.627Z"
   },
   {
    "duration": 6,
    "start_time": "2023-02-04T05:45:23.999Z"
   },
   {
    "duration": 3,
    "start_time": "2023-02-04T05:45:24.377Z"
   },
   {
    "duration": 8,
    "start_time": "2023-02-04T05:45:24.569Z"
   },
   {
    "duration": 669,
    "start_time": "2023-02-04T05:45:25.092Z"
   },
   {
    "duration": 145,
    "start_time": "2023-02-04T05:45:25.809Z"
   },
   {
    "duration": 111,
    "start_time": "2023-02-04T05:45:26.540Z"
   },
   {
    "duration": 178,
    "start_time": "2023-02-04T05:45:27.289Z"
   },
   {
    "duration": 4,
    "start_time": "2023-02-04T05:45:27.676Z"
   },
   {
    "duration": 12,
    "start_time": "2023-02-04T05:45:28.450Z"
   },
   {
    "duration": 24,
    "start_time": "2023-02-04T05:45:35.972Z"
   },
   {
    "duration": 220,
    "start_time": "2023-02-04T05:55:25.272Z"
   },
   {
    "duration": 143,
    "start_time": "2023-02-04T05:55:55.610Z"
   },
   {
    "duration": 82,
    "start_time": "2023-02-04T06:07:21.787Z"
   },
   {
    "duration": 83,
    "start_time": "2023-02-04T06:07:24.084Z"
   },
   {
    "duration": 80,
    "start_time": "2023-02-04T06:07:28.349Z"
   },
   {
    "duration": 79,
    "start_time": "2023-02-04T06:07:49.852Z"
   },
   {
    "duration": 126,
    "start_time": "2023-02-04T06:10:01.462Z"
   },
   {
    "duration": 137,
    "start_time": "2023-02-04T06:10:15.517Z"
   },
   {
    "duration": 136,
    "start_time": "2023-02-04T06:10:46.806Z"
   },
   {
    "duration": 252,
    "start_time": "2023-02-04T06:13:19.703Z"
   },
   {
    "duration": 195,
    "start_time": "2023-02-04T06:14:57.185Z"
   },
   {
    "duration": 201,
    "start_time": "2023-02-04T06:15:07.534Z"
   },
   {
    "duration": 202,
    "start_time": "2023-02-04T06:16:49.152Z"
   },
   {
    "duration": 197,
    "start_time": "2023-02-04T06:17:15.051Z"
   },
   {
    "duration": 278,
    "start_time": "2023-02-04T06:29:01.861Z"
   },
   {
    "duration": 82,
    "start_time": "2023-02-04T06:29:20.954Z"
   },
   {
    "duration": 294,
    "start_time": "2023-02-04T06:29:29.332Z"
   },
   {
    "duration": 257,
    "start_time": "2023-02-04T06:34:12.837Z"
   },
   {
    "duration": 72,
    "start_time": "2023-02-04T06:34:47.887Z"
   },
   {
    "duration": 196,
    "start_time": "2023-02-04T06:34:53.776Z"
   },
   {
    "duration": 201,
    "start_time": "2023-02-04T06:35:46.345Z"
   },
   {
    "duration": 191,
    "start_time": "2023-02-04T06:39:07.215Z"
   },
   {
    "duration": 237,
    "start_time": "2023-02-04T06:42:28.471Z"
   },
   {
    "duration": 240,
    "start_time": "2023-02-04T06:43:46.773Z"
   },
   {
    "duration": 78,
    "start_time": "2023-02-04T07:20:28.230Z"
   },
   {
    "duration": 85,
    "start_time": "2023-02-04T07:35:52.515Z"
   },
   {
    "duration": 70,
    "start_time": "2023-02-04T07:38:16.052Z"
   },
   {
    "duration": 129,
    "start_time": "2023-02-04T07:46:25.917Z"
   },
   {
    "duration": 23,
    "start_time": "2023-02-04T07:46:26.213Z"
   },
   {
    "duration": 19,
    "start_time": "2023-02-04T07:46:26.733Z"
   },
   {
    "duration": 12,
    "start_time": "2023-02-04T07:46:27.422Z"
   },
   {
    "duration": 34,
    "start_time": "2023-02-04T07:46:27.787Z"
   },
   {
    "duration": 7,
    "start_time": "2023-02-04T07:46:28.333Z"
   },
   {
    "duration": 9,
    "start_time": "2023-02-04T07:46:28.857Z"
   },
   {
    "duration": 5,
    "start_time": "2023-02-04T07:46:29.402Z"
   },
   {
    "duration": 6,
    "start_time": "2023-02-04T07:46:29.774Z"
   },
   {
    "duration": 7,
    "start_time": "2023-02-04T07:46:30.130Z"
   },
   {
    "duration": 35,
    "start_time": "2023-02-04T07:46:30.676Z"
   },
   {
    "duration": 14,
    "start_time": "2023-02-04T07:46:31.032Z"
   },
   {
    "duration": 4,
    "start_time": "2023-02-04T07:46:31.567Z"
   },
   {
    "duration": 11,
    "start_time": "2023-02-04T07:46:32.109Z"
   },
   {
    "duration": 22,
    "start_time": "2023-02-04T07:46:32.480Z"
   },
   {
    "duration": 20,
    "start_time": "2023-02-04T07:46:32.670Z"
   },
   {
    "duration": 3,
    "start_time": "2023-02-04T07:46:33.398Z"
   },
   {
    "duration": 9,
    "start_time": "2023-02-04T07:46:33.580Z"
   },
   {
    "duration": 6,
    "start_time": "2023-02-04T07:46:33.958Z"
   },
   {
    "duration": 3,
    "start_time": "2023-02-04T07:46:34.308Z"
   },
   {
    "duration": 8,
    "start_time": "2023-02-04T07:46:34.498Z"
   },
   {
    "duration": 280,
    "start_time": "2023-02-04T07:46:35.013Z"
   },
   {
    "duration": 49,
    "start_time": "2023-02-17T04:28:29.714Z"
   },
   {
    "duration": 51,
    "start_time": "2023-02-17T07:28:05.973Z"
   },
   {
    "duration": 719,
    "start_time": "2023-02-17T07:28:12.420Z"
   },
   {
    "duration": 24,
    "start_time": "2023-02-17T07:28:13.141Z"
   },
   {
    "duration": 15,
    "start_time": "2023-02-17T07:28:14.944Z"
   },
   {
    "duration": 40,
    "start_time": "2023-02-17T07:28:16.461Z"
   }
  ],
  "colab": {
   "provenance": []
  },
  "kernelspec": {
   "display_name": "Python 3 (ipykernel)",
   "language": "python",
   "name": "python3"
  },
  "language_info": {
   "codemirror_mode": {
    "name": "ipython",
    "version": 3
   },
   "file_extension": ".py",
   "mimetype": "text/x-python",
   "name": "python",
   "nbconvert_exporter": "python",
   "pygments_lexer": "ipython3",
   "version": "3.9.13"
  },
  "toc": {
   "base_numbering": 1,
   "nav_menu": {},
   "number_sections": true,
   "sideBar": true,
   "skip_h1_title": true,
   "title_cell": "Table of Contents",
   "title_sidebar": "Contents",
   "toc_cell": false,
   "toc_position": {},
   "toc_section_display": true,
   "toc_window_display": false
  }
 },
 "nbformat": 4,
 "nbformat_minor": 5
}
