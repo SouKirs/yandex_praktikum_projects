{
 "cells": [
  {
   "cell_type": "markdown",
   "id": "fc312eda",
   "metadata": {
    "toc": true
   },
   "source": [
    "<h1>Table of Contents<span class=\"tocSkip\"></span></h1>\n",
    "<div class=\"toc\"><ul class=\"toc-item\"><li><span><a href=\"#Импорт-необходимых-библиотек,-загрузка-и-предобработка-датасетов.\" data-toc-modified-id=\"Импорт-необходимых-библиотек,-загрузка-и-предобработка-датасетов.-1\"><span class=\"toc-item-num\">1&nbsp;&nbsp;</span>Импорт необходимых библиотек, загрузка и предобработка датасетов.</a></span></li><li><span><a href=\"#Приоритизация-гипотез\" data-toc-modified-id=\"Приоритизация-гипотез-2\"><span class=\"toc-item-num\">2&nbsp;&nbsp;</span>Приоритизация гипотез</a></span><ul class=\"toc-item\"><li><span><a href=\"#Применить-фреймворк-ICE-для-приоритизации-гипотез.-Отсортировать-их-по-убыванию-приоритета.\" data-toc-modified-id=\"Применить-фреймворк-ICE-для-приоритизации-гипотез.-Отсортировать-их-по-убыванию-приоритета.-2.1\"><span class=\"toc-item-num\">2.1&nbsp;&nbsp;</span>Применить фреймворк ICE для приоритизации гипотез. Отсортировать их по убыванию приоритета.</a></span></li><li><span><a href=\"#Применить-фреймворк-RICE-для-приоритизации-гипотез.-Отсортировать-их-по-убыванию-приоритета.\" data-toc-modified-id=\"Применить-фреймворк-RICE-для-приоритизации-гипотез.-Отсортировать-их-по-убыванию-приоритета.-2.2\"><span class=\"toc-item-num\">2.2&nbsp;&nbsp;</span>Применить фреймворк RICE для приоритизации гипотез. Отсортировать их по убыванию приоритета.</a></span></li><li><span><a href=\"#Указать,-как-изменилась-приоритизация-гипотез-при-применении-RICE-вместо-ICE.-Объяснить,-почему-так-произошло.\" data-toc-modified-id=\"Указать,-как-изменилась-приоритизация-гипотез-при-применении-RICE-вместо-ICE.-Объяснить,-почему-так-произошло.-2.3\"><span class=\"toc-item-num\">2.3&nbsp;&nbsp;</span>Указать, как изменилась приоритизация гипотез при применении RICE вместо ICE. Объяснить, почему так произошло.</a></span></li></ul></li><li><span><a href=\"#Анализ-A/B-теста\" data-toc-modified-id=\"Анализ-A/B-теста-3\"><span class=\"toc-item-num\">3&nbsp;&nbsp;</span>Анализ A/B-теста</a></span><ul class=\"toc-item\"><li><span><a href=\"#Построить-график-кумулятивной-выручки-по-группам.-Сделать-выводы-и-предположения.\" data-toc-modified-id=\"Построить-график-кумулятивной-выручки-по-группам.-Сделать-выводы-и-предположения.-3.1\"><span class=\"toc-item-num\">3.1&nbsp;&nbsp;</span>Построить график кумулятивной выручки по группам. Сделать выводы и предположения.</a></span></li><li><span><a href=\"#Построить-график-кумулятивного-среднего-чека-по-группам.-Сделать-выводы-и-предположения.\" data-toc-modified-id=\"Построить-график-кумулятивного-среднего-чека-по-группам.-Сделать-выводы-и-предположения.-3.2\"><span class=\"toc-item-num\">3.2&nbsp;&nbsp;</span>Построить график кумулятивного среднего чека по группам. Сделать выводы и предположения.</a></span></li><li><span><a href=\"#Построить-график-относительного-изменения-кумулятивного-среднего-чека-группы-B-к-группе-A.-Сделать-выводы-и-предположения.\" data-toc-modified-id=\"Построить-график-относительного-изменения-кумулятивного-среднего-чека-группы-B-к-группе-A.-Сделать-выводы-и-предположения.-3.3\"><span class=\"toc-item-num\">3.3&nbsp;&nbsp;</span>Построить график относительного изменения кумулятивного среднего чека группы B к группе A. Сделать выводы и предположения.</a></span></li><li><span><a href=\"#Построить-график-кумулятивного-среднего-количества-заказов-на-посетителя-по-группам.-Сделать-выводы-и-предположения.\" data-toc-modified-id=\"Построить-график-кумулятивного-среднего-количества-заказов-на-посетителя-по-группам.-Сделать-выводы-и-предположения.-3.4\"><span class=\"toc-item-num\">3.4&nbsp;&nbsp;</span>Построить график кумулятивного среднего количества заказов на посетителя по группам. Сделать выводы и предположения.</a></span></li><li><span><a href=\"#Построить-график-относительного-изменения-кумулятивного-среднего-количества-заказов-на-посетителя-группы-B-к-группе-A.-Сделать-выводы-и-предположения.\" data-toc-modified-id=\"Построить-график-относительного-изменения-кумулятивного-среднего-количества-заказов-на-посетителя-группы-B-к-группе-A.-Сделать-выводы-и-предположения.-3.5\"><span class=\"toc-item-num\">3.5&nbsp;&nbsp;</span>Построить график относительного изменения кумулятивного среднего количества заказов на посетителя группы B к группе A. Сделать выводы и предположения.</a></span></li><li><span><a href=\"#Построить-точечный-график-количества-заказов-по-пользователям.-Сделать-выводы-и-предположения.\" data-toc-modified-id=\"Построить-точечный-график-количества-заказов-по-пользователям.-Сделать-выводы-и-предположения.-3.6\"><span class=\"toc-item-num\">3.6&nbsp;&nbsp;</span>Построить точечный график количества заказов по пользователям. Сделать выводы и предположения.</a></span></li><li><span><a href=\"#Посчитать-95-й-и-99-й-перцентили-количества-заказов-на-пользователя.-Выбрать-границу-для-определения-аномальных-пользователей.\" data-toc-modified-id=\"Посчитать-95-й-и-99-й-перцентили-количества-заказов-на-пользователя.-Выбрать-границу-для-определения-аномальных-пользователей.-3.7\"><span class=\"toc-item-num\">3.7&nbsp;&nbsp;</span>Посчитать 95-й и 99-й перцентили количества заказов на пользователя. Выбрать границу для определения аномальных пользователей.</a></span></li><li><span><a href=\"#Построить-точечный-график-стоимостей-заказов.-Сделать-выводы-и-предположения.\" data-toc-modified-id=\"Построить-точечный-график-стоимостей-заказов.-Сделать-выводы-и-предположения.-3.8\"><span class=\"toc-item-num\">3.8&nbsp;&nbsp;</span>Построить точечный график стоимостей заказов. Сделать выводы и предположения.</a></span></li><li><span><a href=\"#Посчитать-95-й-и-99-й-перцентили-стоимости-заказов.-Выбрать-границу-для-определения-аномальных-заказов.\" data-toc-modified-id=\"Посчитать-95-й-и-99-й-перцентили-стоимости-заказов.-Выбрать-границу-для-определения-аномальных-заказов.-3.9\"><span class=\"toc-item-num\">3.9&nbsp;&nbsp;</span>Посчитать 95-й и 99-й перцентили стоимости заказов. Выбрать границу для определения аномальных заказов.</a></span></li><li><span><a href=\"#Посчитать-статистическую-значимость-различий-в-среднем-количестве-заказов-на-посетителя-между-группами-по-«сырым»-данным.-Сделать-выводы-и-предположения.\" data-toc-modified-id=\"Посчитать-статистическую-значимость-различий-в-среднем-количестве-заказов-на-посетителя-между-группами-по-«сырым»-данным.-Сделать-выводы-и-предположения.-3.10\"><span class=\"toc-item-num\">3.10&nbsp;&nbsp;</span>Посчитать статистическую значимость различий в среднем количестве заказов на посетителя между группами по «сырым» данным. Сделать выводы и предположения.</a></span></li><li><span><a href=\"#Посчитать-статистическую-значимость-различий-в-среднем-чеке-заказа-между-группами-по-«сырым»-данным.-Сделать-выводы-и-предположения.\" data-toc-modified-id=\"Посчитать-статистическую-значимость-различий-в-среднем-чеке-заказа-между-группами-по-«сырым»-данным.-Сделать-выводы-и-предположения.-3.11\"><span class=\"toc-item-num\">3.11&nbsp;&nbsp;</span>Посчитать статистическую значимость различий в среднем чеке заказа между группами по «сырым» данным. Сделать выводы и предположения.</a></span></li><li><span><a href=\"#Посчитать-статистическую-значимость-различий-в-среднем-количестве-заказов-на-посетителя-между-группами-по-«очищенным»-данным.-Сделать-выводы-и-предположения.\" data-toc-modified-id=\"Посчитать-статистическую-значимость-различий-в-среднем-количестве-заказов-на-посетителя-между-группами-по-«очищенным»-данным.-Сделать-выводы-и-предположения.-3.12\"><span class=\"toc-item-num\">3.12&nbsp;&nbsp;</span>Посчитать статистическую значимость различий в среднем количестве заказов на посетителя между группами по «очищенным» данным. Сделать выводы и предположения.</a></span></li><li><span><a href=\"#Посчитать-статистическую-значимость-различий-в-среднем-чеке-заказа-между-группами-по-«очищенным»-данным.-Сделать-выводы-и-предположения.\" data-toc-modified-id=\"Посчитать-статистическую-значимость-различий-в-среднем-чеке-заказа-между-группами-по-«очищенным»-данным.-Сделать-выводы-и-предположения.-3.13\"><span class=\"toc-item-num\">3.13&nbsp;&nbsp;</span>Посчитать статистическую значимость различий в среднем чеке заказа между группами по «очищенным» данным. Сделать выводы и предположения.</a></span></li><li><span><a href=\"#Принять-решение-по-результатам-теста-и-объяснить-его.\" data-toc-modified-id=\"Принять-решение-по-результатам-теста-и-объяснить-его.-3.14\"><span class=\"toc-item-num\">3.14&nbsp;&nbsp;</span>Принять решение по результатам теста и объяснить его.</a></span></li></ul></li><li><span><a href=\"#Выводы-исследования:\" data-toc-modified-id=\"Выводы-исследования:-4\"><span class=\"toc-item-num\">4&nbsp;&nbsp;</span>Выводы исследования:</a></span></li></ul></div>"
   ]
  },
  {
   "cell_type": "markdown",
   "id": "d594d923",
   "metadata": {},
   "source": [
    "# Проведение А/В-тестов"
   ]
  },
  {
   "cell_type": "markdown",
   "id": "cbc592d6",
   "metadata": {},
   "source": [
    "**Цель исследования:** анализ полученных датасетов, изучение представленных гипотез, выделение среди них наиболее приоритетных,  проведение А/В теста, а также выработка соответствующих рекомендаций на основе результатов.  \n",
    "\n",
    "**Объект исследования:**  hypothesis.csv, orders.csv, visitors.csv  \n",
    "  \n",
    "**Задачи:**\n",
    "1. Изучить все представленные файлы, при необходимости провести их преобработку.  \n",
    "2. Провести приоритезанцию гипотез.  \n",
    "3. Провести A/B тесты.  \n",
    "4. Визуализировать результаты.   \n",
    "5. Сформулировать выводы.  "
   ]
  },
  {
   "cell_type": "markdown",
   "id": "b1c4d0ec",
   "metadata": {},
   "source": [
    "## Импорт необходимых библиотек, загрузка и предобработка датасетов."
   ]
  },
  {
   "cell_type": "code",
   "execution_count": 1,
   "id": "27cce9f9",
   "metadata": {},
   "outputs": [],
   "source": [
    "import pandas as pd\n",
    "import datetime as dt\n",
    "import numpy as np\n",
    "import matplotlib.pyplot as plt\n",
    "from pandas.plotting import register_matplotlib_converters\n",
    "import warnings\n",
    "import scipy.stats as stats\n",
    "register_matplotlib_converters()"
   ]
  },
  {
   "cell_type": "code",
   "execution_count": 2,
   "id": "3d925b3f",
   "metadata": {},
   "outputs": [],
   "source": [
    "try:\n",
    "    visitors, orders, hypothesis = (\n",
    "    pd.read_csv('visitors.csv'),  \n",
    "    pd.read_csv('orders.csv'),\n",
    "    pd.read_csv('hypothesis.csv'))\n",
    "except:\n",
    "    visitors, orders, hypothesis = (\n",
    "    pd.read_csv('/datasets/visitors.csv'), \n",
    "    pd.read_csv('/datasets/orders.csv'), \n",
    "    pd.read_csv('/datasets/hypothesis.csv')  \n",
    "    )"
   ]
  },
  {
   "cell_type": "code",
   "execution_count": 3,
   "id": "3079b817",
   "metadata": {
    "scrolled": false
   },
   "outputs": [
    {
     "name": "stdout",
     "output_type": "stream",
     "text": [
      "<class 'pandas.core.frame.DataFrame'>\n",
      "RangeIndex: 62 entries, 0 to 61\n",
      "Data columns (total 3 columns):\n",
      " #   Column    Non-Null Count  Dtype \n",
      "---  ------    --------------  ----- \n",
      " 0   date      62 non-null     object\n",
      " 1   group     62 non-null     object\n",
      " 2   visitors  62 non-null     int64 \n",
      "dtypes: int64(1), object(2)\n",
      "memory usage: 1.6+ KB\n",
      "None\n"
     ]
    },
    {
     "data": {
      "text/html": [
       "<div>\n",
       "<style scoped>\n",
       "    .dataframe tbody tr th:only-of-type {\n",
       "        vertical-align: middle;\n",
       "    }\n",
       "\n",
       "    .dataframe tbody tr th {\n",
       "        vertical-align: top;\n",
       "    }\n",
       "\n",
       "    .dataframe thead th {\n",
       "        text-align: right;\n",
       "    }\n",
       "</style>\n",
       "<table border=\"1\" class=\"dataframe\">\n",
       "  <thead>\n",
       "    <tr style=\"text-align: right;\">\n",
       "      <th></th>\n",
       "      <th>date</th>\n",
       "      <th>group</th>\n",
       "      <th>visitors</th>\n",
       "    </tr>\n",
       "  </thead>\n",
       "  <tbody>\n",
       "    <tr>\n",
       "      <th>0</th>\n",
       "      <td>2019-08-01</td>\n",
       "      <td>A</td>\n",
       "      <td>719</td>\n",
       "    </tr>\n",
       "    <tr>\n",
       "      <th>1</th>\n",
       "      <td>2019-08-02</td>\n",
       "      <td>A</td>\n",
       "      <td>619</td>\n",
       "    </tr>\n",
       "    <tr>\n",
       "      <th>2</th>\n",
       "      <td>2019-08-03</td>\n",
       "      <td>A</td>\n",
       "      <td>507</td>\n",
       "    </tr>\n",
       "    <tr>\n",
       "      <th>3</th>\n",
       "      <td>2019-08-04</td>\n",
       "      <td>A</td>\n",
       "      <td>717</td>\n",
       "    </tr>\n",
       "    <tr>\n",
       "      <th>4</th>\n",
       "      <td>2019-08-05</td>\n",
       "      <td>A</td>\n",
       "      <td>756</td>\n",
       "    </tr>\n",
       "  </tbody>\n",
       "</table>\n",
       "</div>"
      ],
      "text/plain": [
       "         date group  visitors\n",
       "0  2019-08-01     A       719\n",
       "1  2019-08-02     A       619\n",
       "2  2019-08-03     A       507\n",
       "3  2019-08-04     A       717\n",
       "4  2019-08-05     A       756"
      ]
     },
     "metadata": {},
     "output_type": "display_data"
    },
    {
     "data": {
      "text/plain": [
       "None"
      ]
     },
     "metadata": {},
     "output_type": "display_data"
    },
    {
     "name": "stdout",
     "output_type": "stream",
     "text": [
      "Количество дубликатов в файле = 0\n",
      "Количество пропусков в файле = 0\n",
      "\n",
      "\n",
      "\n",
      "<class 'pandas.core.frame.DataFrame'>\n",
      "RangeIndex: 1197 entries, 0 to 1196\n",
      "Data columns (total 5 columns):\n",
      " #   Column         Non-Null Count  Dtype \n",
      "---  ------         --------------  ----- \n",
      " 0   transactionId  1197 non-null   int64 \n",
      " 1   visitorId      1197 non-null   int64 \n",
      " 2   date           1197 non-null   object\n",
      " 3   revenue        1197 non-null   int64 \n",
      " 4   group          1197 non-null   object\n",
      "dtypes: int64(3), object(2)\n",
      "memory usage: 46.9+ KB\n",
      "None\n"
     ]
    },
    {
     "data": {
      "text/html": [
       "<div>\n",
       "<style scoped>\n",
       "    .dataframe tbody tr th:only-of-type {\n",
       "        vertical-align: middle;\n",
       "    }\n",
       "\n",
       "    .dataframe tbody tr th {\n",
       "        vertical-align: top;\n",
       "    }\n",
       "\n",
       "    .dataframe thead th {\n",
       "        text-align: right;\n",
       "    }\n",
       "</style>\n",
       "<table border=\"1\" class=\"dataframe\">\n",
       "  <thead>\n",
       "    <tr style=\"text-align: right;\">\n",
       "      <th></th>\n",
       "      <th>transactionid</th>\n",
       "      <th>visitorid</th>\n",
       "      <th>date</th>\n",
       "      <th>revenue</th>\n",
       "      <th>group</th>\n",
       "    </tr>\n",
       "  </thead>\n",
       "  <tbody>\n",
       "    <tr>\n",
       "      <th>0</th>\n",
       "      <td>3667963787</td>\n",
       "      <td>3312258926</td>\n",
       "      <td>2019-08-15</td>\n",
       "      <td>1650</td>\n",
       "      <td>B</td>\n",
       "    </tr>\n",
       "    <tr>\n",
       "      <th>1</th>\n",
       "      <td>2804400009</td>\n",
       "      <td>3642806036</td>\n",
       "      <td>2019-08-15</td>\n",
       "      <td>730</td>\n",
       "      <td>B</td>\n",
       "    </tr>\n",
       "    <tr>\n",
       "      <th>2</th>\n",
       "      <td>2961555356</td>\n",
       "      <td>4069496402</td>\n",
       "      <td>2019-08-15</td>\n",
       "      <td>400</td>\n",
       "      <td>A</td>\n",
       "    </tr>\n",
       "    <tr>\n",
       "      <th>3</th>\n",
       "      <td>3797467345</td>\n",
       "      <td>1196621759</td>\n",
       "      <td>2019-08-15</td>\n",
       "      <td>9759</td>\n",
       "      <td>B</td>\n",
       "    </tr>\n",
       "    <tr>\n",
       "      <th>4</th>\n",
       "      <td>2282983706</td>\n",
       "      <td>2322279887</td>\n",
       "      <td>2019-08-15</td>\n",
       "      <td>2308</td>\n",
       "      <td>B</td>\n",
       "    </tr>\n",
       "  </tbody>\n",
       "</table>\n",
       "</div>"
      ],
      "text/plain": [
       "   transactionid   visitorid        date  revenue group\n",
       "0     3667963787  3312258926  2019-08-15     1650     B\n",
       "1     2804400009  3642806036  2019-08-15      730     B\n",
       "2     2961555356  4069496402  2019-08-15      400     A\n",
       "3     3797467345  1196621759  2019-08-15     9759     B\n",
       "4     2282983706  2322279887  2019-08-15     2308     B"
      ]
     },
     "metadata": {},
     "output_type": "display_data"
    },
    {
     "data": {
      "text/plain": [
       "None"
      ]
     },
     "metadata": {},
     "output_type": "display_data"
    },
    {
     "name": "stdout",
     "output_type": "stream",
     "text": [
      "Количество дубликатов в файле = 0\n",
      "Количество пропусков в файле = 0\n",
      "\n",
      "\n",
      "\n",
      "<class 'pandas.core.frame.DataFrame'>\n",
      "RangeIndex: 9 entries, 0 to 8\n",
      "Data columns (total 5 columns):\n",
      " #   Column      Non-Null Count  Dtype \n",
      "---  ------      --------------  ----- \n",
      " 0   Hypothesis  9 non-null      object\n",
      " 1   Reach       9 non-null      int64 \n",
      " 2   Impact      9 non-null      int64 \n",
      " 3   Confidence  9 non-null      int64 \n",
      " 4   Efforts     9 non-null      int64 \n",
      "dtypes: int64(4), object(1)\n",
      "memory usage: 488.0+ bytes\n",
      "None\n"
     ]
    },
    {
     "data": {
      "text/html": [
       "<div>\n",
       "<style scoped>\n",
       "    .dataframe tbody tr th:only-of-type {\n",
       "        vertical-align: middle;\n",
       "    }\n",
       "\n",
       "    .dataframe tbody tr th {\n",
       "        vertical-align: top;\n",
       "    }\n",
       "\n",
       "    .dataframe thead th {\n",
       "        text-align: right;\n",
       "    }\n",
       "</style>\n",
       "<table border=\"1\" class=\"dataframe\">\n",
       "  <thead>\n",
       "    <tr style=\"text-align: right;\">\n",
       "      <th></th>\n",
       "      <th>hypothesis</th>\n",
       "      <th>reach</th>\n",
       "      <th>impact</th>\n",
       "      <th>confidence</th>\n",
       "      <th>efforts</th>\n",
       "    </tr>\n",
       "  </thead>\n",
       "  <tbody>\n",
       "    <tr>\n",
       "      <th>0</th>\n",
       "      <td>Добавить два новых канала привлечения трафика, что позволит привлекать на 30% больше пользователей</td>\n",
       "      <td>3</td>\n",
       "      <td>10</td>\n",
       "      <td>8</td>\n",
       "      <td>6</td>\n",
       "    </tr>\n",
       "    <tr>\n",
       "      <th>1</th>\n",
       "      <td>Запустить собственную службу доставки, что сократит срок доставки заказов</td>\n",
       "      <td>2</td>\n",
       "      <td>5</td>\n",
       "      <td>4</td>\n",
       "      <td>10</td>\n",
       "    </tr>\n",
       "    <tr>\n",
       "      <th>2</th>\n",
       "      <td>Добавить блоки рекомендаций товаров на сайт интернет магазина, чтобы повысить конверсию и средний чек заказа</td>\n",
       "      <td>8</td>\n",
       "      <td>3</td>\n",
       "      <td>7</td>\n",
       "      <td>3</td>\n",
       "    </tr>\n",
       "    <tr>\n",
       "      <th>3</th>\n",
       "      <td>Изменить структура категорий, что увеличит конверсию, т.к. пользователи быстрее найдут нужный товар</td>\n",
       "      <td>8</td>\n",
       "      <td>3</td>\n",
       "      <td>3</td>\n",
       "      <td>8</td>\n",
       "    </tr>\n",
       "    <tr>\n",
       "      <th>4</th>\n",
       "      <td>Изменить цвет фона главной страницы, чтобы увеличить вовлеченность пользователей</td>\n",
       "      <td>3</td>\n",
       "      <td>1</td>\n",
       "      <td>1</td>\n",
       "      <td>1</td>\n",
       "    </tr>\n",
       "  </tbody>\n",
       "</table>\n",
       "</div>"
      ],
      "text/plain": [
       "                                                                                                     hypothesis  \\\n",
       "0            Добавить два новых канала привлечения трафика, что позволит привлекать на 30% больше пользователей   \n",
       "1                                     Запустить собственную службу доставки, что сократит срок доставки заказов   \n",
       "2  Добавить блоки рекомендаций товаров на сайт интернет магазина, чтобы повысить конверсию и средний чек заказа   \n",
       "3           Изменить структура категорий, что увеличит конверсию, т.к. пользователи быстрее найдут нужный товар   \n",
       "4                              Изменить цвет фона главной страницы, чтобы увеличить вовлеченность пользователей   \n",
       "\n",
       "   reach  impact  confidence  efforts  \n",
       "0      3      10           8        6  \n",
       "1      2       5           4       10  \n",
       "2      8       3           7        3  \n",
       "3      8       3           3        8  \n",
       "4      3       1           1        1  "
      ]
     },
     "metadata": {},
     "output_type": "display_data"
    },
    {
     "data": {
      "text/plain": [
       "None"
      ]
     },
     "metadata": {},
     "output_type": "display_data"
    },
    {
     "name": "stdout",
     "output_type": "stream",
     "text": [
      "Количество дубликатов в файле = 0\n",
      "Количество пропусков в файле = 0\n",
      "\n",
      "\n",
      "\n"
     ]
    }
   ],
   "source": [
    "for i in (visitors, orders, hypothesis):\n",
    "    print(i.info()) # получение общей информации\n",
    "    i.columns=i.columns.str.lower() # приведение к нижнему регистру\n",
    "    display(i.head(),\n",
    "        pd.set_option('display.max_colwidth', None)) #Открываем первые строки файла\n",
    "    print(\"Количество дубликатов в файле =\", i.duplicated().sum()) # проверка на дубликаты\n",
    "    print(\"Количество пропусков в файле =\", sum(i.isna().sum())) # проверка на пропуски\n",
    "    print()\n",
    "    print()\n",
    "    print()"
   ]
  },
  {
   "cell_type": "code",
   "execution_count": 4,
   "id": "e2fb58d3",
   "metadata": {},
   "outputs": [],
   "source": [
    "orders['date'] = orders['date'].map(\n",
    "    lambda x: dt.datetime.strptime(x, '%Y-%m-%d')\n",
    ")\n",
    "visitors['date'] = visitors['date'].map(\n",
    "    lambda x: dt.datetime.strptime(x, '%Y-%m-%d')\n",
    ")"
   ]
  },
  {
   "cell_type": "code",
   "execution_count": 5,
   "id": "a5214611",
   "metadata": {},
   "outputs": [
    {
     "name": "stdout",
     "output_type": "stream",
     "text": [
      "Количество групп задействованных в исследовании =  2\n",
      "Временной интервал исследования находится в промежутке от 2019-08-01 00:00:00 до 2019-08-31 00:00:00\n",
      "Количество пользователей в группе А = 557\n",
      "Количество пользователей в группе B = 640\n"
     ]
    },
    {
     "data": {
      "image/png": "[encoded data removed]",
      "text/plain": [
       "<Figure size 864x288 with 1 Axes>"
      ]
     },
     "metadata": {
      "needs_background": "light"
     },
     "output_type": "display_data"
    }
   ],
   "source": [
    "print('Количество групп задействованных в исследовании = ', orders['group'].nunique())\n",
    "print('Временной интервал исследования находится в промежутке от', orders['date'].min(), 'до', orders['date'].max())\n",
    "print('Количество пользователей в группе А =', orders.query('group==\"A\"')['visitorid'].count())\n",
    "print('Количество пользователей в группе B =', orders.query('group==\"B\"')['visitorid'].count())\n",
    "plt.figure(figsize=(12, 4))\n",
    "plt.plot(visitors.query('group==\"A\"')['date'], visitors.query('group==\"A\"')['visitors'], label='A', color='r', marker='o')\n",
    "plt.plot(visitors.query('group==\"B\"')['date'], visitors.query('group==\"B\"')['visitors'], label='B', color='g', marker='o')\n",
    "plt.grid()\n",
    "plt.legend()\n",
    "plt.show()"
   ]
  },
  {
   "cell_type": "markdown",
   "id": "e583c6ab",
   "metadata": {},
   "source": [
    "**Вывод №1:**   \n",
    "1. В данных отсутствуют пропуски и дубликаты;  \n",
    "2. Столбцы date приведены к нужному типу '%Y-%m-%d';  \n",
    "3. Все названия столбцов приведены к нижнему регистру;  \n",
    "4. В исследовании задействовано 2 группы;\n",
    "5. Группа В больше группы А на 80 человек;\n",
    "6. Исследование охватывает промежуток от 1 до 31 августа 2019 года.\n",
    "7. Динамика групп по дням по большей части совпадает, но динамика группы В чуть более высокая."
   ]
  },
  {
   "cell_type": "markdown",
   "id": "8c424594",
   "metadata": {},
   "source": [
    "## Приоритизация гипотез"
   ]
  },
  {
   "cell_type": "markdown",
   "id": "ec945c32",
   "metadata": {},
   "source": [
    "### Применить фреймворк ICE для приоритизации гипотез. Отсортировать их по убыванию приоритета."
   ]
  },
  {
   "cell_type": "code",
   "execution_count": 6,
   "id": "a43f6ef8",
   "metadata": {},
   "outputs": [
    {
     "data": {
      "text/html": [
       "<div>\n",
       "<style scoped>\n",
       "    .dataframe tbody tr th:only-of-type {\n",
       "        vertical-align: middle;\n",
       "    }\n",
       "\n",
       "    .dataframe tbody tr th {\n",
       "        vertical-align: top;\n",
       "    }\n",
       "\n",
       "    .dataframe thead th {\n",
       "        text-align: right;\n",
       "    }\n",
       "</style>\n",
       "<table border=\"1\" class=\"dataframe\">\n",
       "  <thead>\n",
       "    <tr style=\"text-align: right;\">\n",
       "      <th></th>\n",
       "      <th>hypothesis</th>\n",
       "      <th>ice</th>\n",
       "    </tr>\n",
       "  </thead>\n",
       "  <tbody>\n",
       "    <tr>\n",
       "      <th>8</th>\n",
       "      <td>Запустить акцию, дающую скидку на товар в день рождения</td>\n",
       "      <td>16.20</td>\n",
       "    </tr>\n",
       "    <tr>\n",
       "      <th>0</th>\n",
       "      <td>Добавить два новых канала привлечения трафика, что позволит привлекать на 30% больше пользователей</td>\n",
       "      <td>13.33</td>\n",
       "    </tr>\n",
       "    <tr>\n",
       "      <th>7</th>\n",
       "      <td>Добавить форму подписки на все основные страницы, чтобы собрать базу клиентов для email-рассылок</td>\n",
       "      <td>11.20</td>\n",
       "    </tr>\n",
       "    <tr>\n",
       "      <th>6</th>\n",
       "      <td>Показать на главной странице баннеры с актуальными акциями и распродажами, чтобы увеличить конверсию</td>\n",
       "      <td>8.00</td>\n",
       "    </tr>\n",
       "    <tr>\n",
       "      <th>2</th>\n",
       "      <td>Добавить блоки рекомендаций товаров на сайт интернет магазина, чтобы повысить конверсию и средний чек заказа</td>\n",
       "      <td>7.00</td>\n",
       "    </tr>\n",
       "    <tr>\n",
       "      <th>1</th>\n",
       "      <td>Запустить собственную службу доставки, что сократит срок доставки заказов</td>\n",
       "      <td>2.00</td>\n",
       "    </tr>\n",
       "    <tr>\n",
       "      <th>5</th>\n",
       "      <td>Добавить страницу отзывов клиентов о магазине, что позволит увеличить количество заказов</td>\n",
       "      <td>1.33</td>\n",
       "    </tr>\n",
       "    <tr>\n",
       "      <th>3</th>\n",
       "      <td>Изменить структура категорий, что увеличит конверсию, т.к. пользователи быстрее найдут нужный товар</td>\n",
       "      <td>1.12</td>\n",
       "    </tr>\n",
       "    <tr>\n",
       "      <th>4</th>\n",
       "      <td>Изменить цвет фона главной страницы, чтобы увеличить вовлеченность пользователей</td>\n",
       "      <td>1.00</td>\n",
       "    </tr>\n",
       "  </tbody>\n",
       "</table>\n",
       "</div>"
      ],
      "text/plain": [
       "                                                                                                     hypothesis  \\\n",
       "8                                                       Запустить акцию, дающую скидку на товар в день рождения   \n",
       "0            Добавить два новых канала привлечения трафика, что позволит привлекать на 30% больше пользователей   \n",
       "7              Добавить форму подписки на все основные страницы, чтобы собрать базу клиентов для email-рассылок   \n",
       "6          Показать на главной странице баннеры с актуальными акциями и распродажами, чтобы увеличить конверсию   \n",
       "2  Добавить блоки рекомендаций товаров на сайт интернет магазина, чтобы повысить конверсию и средний чек заказа   \n",
       "1                                     Запустить собственную службу доставки, что сократит срок доставки заказов   \n",
       "5                      Добавить страницу отзывов клиентов о магазине, что позволит увеличить количество заказов   \n",
       "3           Изменить структура категорий, что увеличит конверсию, т.к. пользователи быстрее найдут нужный товар   \n",
       "4                              Изменить цвет фона главной страницы, чтобы увеличить вовлеченность пользователей   \n",
       "\n",
       "     ice  \n",
       "8  16.20  \n",
       "0  13.33  \n",
       "7  11.20  \n",
       "6   8.00  \n",
       "2   7.00  \n",
       "1   2.00  \n",
       "5   1.33  \n",
       "3   1.12  \n",
       "4   1.00  "
      ]
     },
     "metadata": {},
     "output_type": "display_data"
    }
   ],
   "source": [
    "pd.set_option('display.max_colwidth', None)\n",
    "hypothesis['ice'] = round(hypothesis['impact'] * hypothesis['confidence'] / hypothesis['efforts'], 2)\n",
    "display(hypothesis[['hypothesis','ice']].sort_values(by='ice', ascending = False))"
   ]
  },
  {
   "cell_type": "markdown",
   "id": "04368a9e",
   "metadata": {},
   "source": [
    "**Вывод №:2.1** На проверку всех гипотез может не хватить времени и ресурсов, в связи с этим гипотезы необходимо приоритезировать, для этого был использован метод ICE и RICE. \n",
    "\n",
    "При использовании метода ICE главными приоритетными гипотезами стали: 8,0,7,6,2\n",
    "\n",
    "* Запустить акцию, дающую скидку на товар в день рождения  \n",
    "* Добавить два новых канала привлечения трафика, что позволит привлекать на 30% больше пользователей  \n",
    "* Добавить форму подписки на все основные страницы, чтобы собрать базу клиентов для email-рассылок  \n",
    "* Показать на главной странице баннеры с актуальными акциями и распродажами, чтобы увеличить конверсию  \n",
    "* Добавить блоки рекомендаций товаров на сайт интернет магазина, чтобы повысить конверсию и средний чек заказа  "
   ]
  },
  {
   "cell_type": "markdown",
   "id": "8a664a25",
   "metadata": {},
   "source": [
    "### Применить фреймворк RICE для приоритизации гипотез. Отсортировать их по убыванию приоритета."
   ]
  },
  {
   "cell_type": "code",
   "execution_count": 7,
   "id": "f4d9c12e",
   "metadata": {},
   "outputs": [
    {
     "data": {
      "text/html": [
       "<div>\n",
       "<style scoped>\n",
       "    .dataframe tbody tr th:only-of-type {\n",
       "        vertical-align: middle;\n",
       "    }\n",
       "\n",
       "    .dataframe tbody tr th {\n",
       "        vertical-align: top;\n",
       "    }\n",
       "\n",
       "    .dataframe thead th {\n",
       "        text-align: right;\n",
       "    }\n",
       "</style>\n",
       "<table border=\"1\" class=\"dataframe\">\n",
       "  <thead>\n",
       "    <tr style=\"text-align: right;\">\n",
       "      <th></th>\n",
       "      <th>hypothesis</th>\n",
       "      <th>rice</th>\n",
       "    </tr>\n",
       "  </thead>\n",
       "  <tbody>\n",
       "    <tr>\n",
       "      <th>7</th>\n",
       "      <td>Добавить форму подписки на все основные страницы, чтобы собрать базу клиентов для email-рассылок</td>\n",
       "      <td>112.0</td>\n",
       "    </tr>\n",
       "    <tr>\n",
       "      <th>2</th>\n",
       "      <td>Добавить блоки рекомендаций товаров на сайт интернет магазина, чтобы повысить конверсию и средний чек заказа</td>\n",
       "      <td>56.0</td>\n",
       "    </tr>\n",
       "    <tr>\n",
       "      <th>0</th>\n",
       "      <td>Добавить два новых канала привлечения трафика, что позволит привлекать на 30% больше пользователей</td>\n",
       "      <td>40.0</td>\n",
       "    </tr>\n",
       "    <tr>\n",
       "      <th>6</th>\n",
       "      <td>Показать на главной странице баннеры с актуальными акциями и распродажами, чтобы увеличить конверсию</td>\n",
       "      <td>40.0</td>\n",
       "    </tr>\n",
       "    <tr>\n",
       "      <th>8</th>\n",
       "      <td>Запустить акцию, дающую скидку на товар в день рождения</td>\n",
       "      <td>16.2</td>\n",
       "    </tr>\n",
       "    <tr>\n",
       "      <th>3</th>\n",
       "      <td>Изменить структура категорий, что увеличит конверсию, т.к. пользователи быстрее найдут нужный товар</td>\n",
       "      <td>9.0</td>\n",
       "    </tr>\n",
       "    <tr>\n",
       "      <th>1</th>\n",
       "      <td>Запустить собственную службу доставки, что сократит срок доставки заказов</td>\n",
       "      <td>4.0</td>\n",
       "    </tr>\n",
       "    <tr>\n",
       "      <th>5</th>\n",
       "      <td>Добавить страницу отзывов клиентов о магазине, что позволит увеличить количество заказов</td>\n",
       "      <td>4.0</td>\n",
       "    </tr>\n",
       "    <tr>\n",
       "      <th>4</th>\n",
       "      <td>Изменить цвет фона главной страницы, чтобы увеличить вовлеченность пользователей</td>\n",
       "      <td>3.0</td>\n",
       "    </tr>\n",
       "  </tbody>\n",
       "</table>\n",
       "</div>"
      ],
      "text/plain": [
       "                                                                                                     hypothesis  \\\n",
       "7              Добавить форму подписки на все основные страницы, чтобы собрать базу клиентов для email-рассылок   \n",
       "2  Добавить блоки рекомендаций товаров на сайт интернет магазина, чтобы повысить конверсию и средний чек заказа   \n",
       "0            Добавить два новых канала привлечения трафика, что позволит привлекать на 30% больше пользователей   \n",
       "6          Показать на главной странице баннеры с актуальными акциями и распродажами, чтобы увеличить конверсию   \n",
       "8                                                       Запустить акцию, дающую скидку на товар в день рождения   \n",
       "3           Изменить структура категорий, что увеличит конверсию, т.к. пользователи быстрее найдут нужный товар   \n",
       "1                                     Запустить собственную службу доставки, что сократит срок доставки заказов   \n",
       "5                      Добавить страницу отзывов клиентов о магазине, что позволит увеличить количество заказов   \n",
       "4                              Изменить цвет фона главной страницы, чтобы увеличить вовлеченность пользователей   \n",
       "\n",
       "    rice  \n",
       "7  112.0  \n",
       "2   56.0  \n",
       "0   40.0  \n",
       "6   40.0  \n",
       "8   16.2  \n",
       "3    9.0  \n",
       "1    4.0  \n",
       "5    4.0  \n",
       "4    3.0  "
      ]
     },
     "metadata": {},
     "output_type": "display_data"
    }
   ],
   "source": [
    "hypothesis['rice'] = round(hypothesis['reach'] * hypothesis['impact'] * hypothesis['confidence'] / hypothesis['efforts'], 2)\n",
    "display(hypothesis[['hypothesis','rice']].sort_values(by='rice', ascending = False))"
   ]
  },
  {
   "cell_type": "markdown",
   "id": "2edec1ec",
   "metadata": {},
   "source": [
    "**Вывод №2.2:** При использовании метода RICE (с учетом охвата аудитории) главными приоритетными гипотезами стали: 7,2,0,6,8\n",
    "\n",
    "* Добавить форму подписки на все основные страницы, чтобы собрать базу клиентов для email-рассылок\n",
    "* Добавить блоки рекомендаций товаров на сайт интернет магазина, чтобы повысить конверсию и средний чек заказа\n",
    "* Добавить два новых канала привлечения трафика, что позволит привлекать на 30% больше пользователей\n",
    "* Показать на главной странице баннеры с актуальными акциями и распродажами, чтобы увеличить конверсию\n",
    "* Запустить акцию, дающую скидку на товар в день рождения"
   ]
  },
  {
   "cell_type": "markdown",
   "id": "a86cd2ec",
   "metadata": {},
   "source": [
    "### Указать, как изменилась приоритизация гипотез при применении RICE вместо ICE. Объяснить, почему так произошло."
   ]
  },
  {
   "cell_type": "markdown",
   "id": "c26ad1b2",
   "metadata": {},
   "source": [
    "**Вывод №2.3:** Стоит отметить, что ТОП-5 гипотез осталась неизменна при использовании обоих способов, изменились только их позиции. Наиболее приоритетными гипотизами в таком случае следует выбрать: 7 и 0, т.к. в обоих случаях они попадают в ТОП-3. \n",
    "\n",
    "* 7 - Добавить форму подписки на все основные страницы, чтобы собрать базу клиентов для email-рассылок\t\n",
    "* 0 - Добавить два новых канала привлечения трафика, что позволит привлекать на 30% больше пользователей"
   ]
  },
  {
   "cell_type": "markdown",
   "id": "8cfd2644",
   "metadata": {},
   "source": [
    "## Анализ A/B-теста"
   ]
  },
  {
   "cell_type": "code",
   "execution_count": 8,
   "id": "9ac589d6",
   "metadata": {},
   "outputs": [
    {
     "name": "stdout",
     "output_type": "stream",
     "text": [
      "Количество пользователей, попавших в обе группы одновременно = 58 или 6 % от общего числа пользователей.\n",
      "Сумма покупок пользователей, попавших в обе группы одновременно = 1558935 или 16 % от общей суммы продаж.\n",
      "Количество покупок пользователей,  попавших в обе группы одновременно = 181 или 15 % от общего количества продаж.\n"
     ]
    }
   ],
   "source": [
    "duplicates = orders.groupby(['visitorid']).agg({'transactionid' : 'count', 'revenue' : 'sum', 'group' : 'nunique'}).reset_index()\n",
    "print('Количество пользователей, попавших в обе группы одновременно =', duplicates[duplicates['group']>1]['visitorid'].count(), 'или', round(duplicates[duplicates['group']>1]['visitorid'].count()/duplicates['visitorid'].count()*100), '% от общего числа пользователей.')\n",
    "print('Сумма покупок пользователей, попавших в обе группы одновременно =', duplicates[duplicates['group']>1]['revenue'].sum(), 'или', round(duplicates[duplicates['group']>1]['revenue'].sum()/duplicates['revenue'].sum()*100), '% от общей суммы продаж.')\n",
    "print('Количество покупок пользователей,  попавших в обе группы одновременно =', duplicates[duplicates['group']>1]['transactionid'].sum(), 'или', round(duplicates[duplicates['group']>1]['transactionid'].sum()/duplicates['transactionid'].sum()*100), '% от общего количества продаж.')"
   ]
  },
  {
   "cell_type": "code",
   "execution_count": 9,
   "id": "11161337",
   "metadata": {},
   "outputs": [],
   "source": [
    "duplicates_list_visitorid = list(duplicates[duplicates['group']>1]['visitorid'])\n",
    "orders=orders.query('visitorid not in @duplicates_list_visitorid')"
   ]
  },
  {
   "cell_type": "markdown",
   "id": "8d99eab4",
   "metadata": {},
   "source": [
    "**Вывод №3:** 58 пользователей попали в обе группы одновременно, при этом составив около 16% общей выручки. Эти данные могут существенно исказить результаты теста, и его нельзя будет назвать достоверным. Необходимо исключить их из исследования. "
   ]
  },
  {
   "cell_type": "markdown",
   "id": "2cb57bf0",
   "metadata": {},
   "source": [
    "### Построить график кумулятивной выручки по группам. Сделать выводы и предположения."
   ]
  },
  {
   "cell_type": "code",
   "execution_count": 10,
   "id": "febb8752",
   "metadata": {},
   "outputs": [
    {
     "data": {
      "image/png": "[encoded data removed]",
      "text/plain": [
       "<Figure size 864x288 with 1 Axes>"
      ]
     },
     "metadata": {
      "needs_background": "light"
     },
     "output_type": "display_data"
    }
   ],
   "source": [
    "datesGroups = orders[['date', 'group']].drop_duplicates()\n",
    "\n",
    "ordersAggregated = datesGroups.apply(\n",
    "    lambda x: orders[\n",
    "        np.logical_and(\n",
    "            orders['date'] <= x['date'], orders['group'] == x['group']\n",
    "        )\n",
    "    ].agg(\n",
    "        {\n",
    "            'date': 'max',\n",
    "            'group': 'max',\n",
    "            'transactionid': 'nunique',\n",
    "            'visitorid': 'nunique',\n",
    "            'revenue': 'sum',\n",
    "        }\n",
    "    ),\n",
    "    axis=1,\n",
    ").sort_values(by=['date', 'group'])\n",
    "\n",
    "visitorsAggregated = datesGroups.apply(\n",
    "    lambda x: visitors[\n",
    "        np.logical_and(\n",
    "            visitors['date'] <= x['date'], visitors['group'] == x['group']\n",
    "        )\n",
    "    ].agg({'date': 'max', 'group': 'max', 'visitors': 'sum'}),\n",
    "    axis=1,\n",
    ").sort_values(by=['date', 'group'])\n",
    "\n",
    "cumulativeData = ordersAggregated.merge(\n",
    "    visitorsAggregated, left_on=['date', 'group'], right_on=['date', 'group']\n",
    ")\n",
    "cumulativeData.columns = [\n",
    "    'date',\n",
    "    'group',\n",
    "    'orders',\n",
    "    'buyers',\n",
    "    'revenue',\n",
    "    'visitors',\n",
    "]\n",
    "\n",
    "# датафрейм с кумулятивным количеством заказов и кумулятивной выручкой по дням в группе А\n",
    "cumulativeRevenueA = cumulativeData[cumulativeData['group']=='A'][['date','revenue', 'orders']]\n",
    "\n",
    "# датафрейм с кумулятивным количеством заказов и кумулятивной выручкой по дням в группе B\n",
    "cumulativeRevenueB = cumulativeData[cumulativeData['group']=='B'][['date','revenue', 'orders']]\n",
    "\n",
    "plt.figure(figsize=(12, 4))\n",
    "plt.title('График кумулятивной выручки по группам')\n",
    "# Строим график выручки группы А\n",
    "plt.plot(cumulativeRevenueA['date'], cumulativeRevenueA['revenue'], label='A', marker = 'o')\n",
    "\n",
    "# Строим график выручки группы B\n",
    "plt.plot(cumulativeRevenueB['date'], cumulativeRevenueB['revenue'], label='B', marker = 'o')\n",
    "plt.xlabel(\"Дата\")\n",
    "plt.ylabel(\"Выручка\")\n",
    "plt.grid()\n",
    "plt.legend()\n",
    "plt.show()"
   ]
  },
  {
   "cell_type": "markdown",
   "id": "631bf6bf",
   "metadata": {},
   "source": [
    "**Вывод №3.1:** Группа А выдает отличный результат в виде постепенного роста кумулятивной выручки. Группа В также показывает плавный рост, однако 19.08.2019 произошел неожиданный всплеск. Скорее всего, мы имеем дело с аномально дорогим заказом или с аномально большим количеством заказов, совершенных за один день. "
   ]
  },
  {
   "cell_type": "markdown",
   "id": "b01c2786",
   "metadata": {},
   "source": [
    "### Построить график кумулятивного среднего чека по группам. Сделать выводы и предположения."
   ]
  },
  {
   "cell_type": "code",
   "execution_count": 11,
   "id": "90f279e1",
   "metadata": {},
   "outputs": [
    {
     "data": {
      "image/png": "[encoded data removed]",
      "text/plain": [
       "<Figure size 864x288 with 1 Axes>"
      ]
     },
     "metadata": {
      "needs_background": "light"
     },
     "output_type": "display_data"
    }
   ],
   "source": [
    "plt.figure(figsize=(12, 4))\n",
    "plt.title('График кумулятивного среднего чека по группам')\n",
    "plt.plot(cumulativeRevenueA['date'], cumulativeRevenueA['revenue']/cumulativeRevenueA['orders'], label='A', marker = 'o')\n",
    "plt.plot(cumulativeRevenueB['date'], cumulativeRevenueB['revenue']/cumulativeRevenueB['orders'], label='B', marker = 'o')\n",
    "plt.grid()\n",
    "plt.xlabel(\"Дата\")\n",
    "plt.ylabel(\"Средний чек\")\n",
    "plt.legend()\n",
    "plt.show()"
   ]
  },
  {
   "cell_type": "markdown",
   "id": "01b8bef9",
   "metadata": {},
   "source": [
    "**Вывод №3.2:** График среднего чека группы А стабилизируется ближе к концу исследования. На резкий рост и последующее падение  группы В вновь могли повлияли выбросы за 19.08.2019. "
   ]
  },
  {
   "cell_type": "markdown",
   "id": "7d6406d8",
   "metadata": {},
   "source": [
    "### Построить график относительного изменения кумулятивного среднего чека группы B к группе A. Сделать выводы и предположения."
   ]
  },
  {
   "cell_type": "code",
   "execution_count": 12,
   "id": "c5ea3130",
   "metadata": {},
   "outputs": [
    {
     "data": {
      "image/png": "[encoded data removed]",
      "text/plain": [
       "<Figure size 864x288 with 1 Axes>"
      ]
     },
     "metadata": {
      "needs_background": "light"
     },
     "output_type": "display_data"
    }
   ],
   "source": [
    "# собираем данные в одном датафрейме\n",
    "mergedCumulativeRevenue = cumulativeRevenueA.merge(cumulativeRevenueB, \n",
    "                                                   left_on='date', \n",
    "                                                   right_on='date', \n",
    "                                                   how='left', \n",
    "                                                   suffixes=['A', 'B'])\n",
    "plt.figure(figsize=(12, 4))\n",
    "plt.title('График относительного изменения кумулятивного среднего чека группы B к группе A')\n",
    "# cтроим отношение средних чеков\n",
    "plt.plot(mergedCumulativeRevenue['date'], \n",
    "         (mergedCumulativeRevenue['revenueB']/\n",
    "          mergedCumulativeRevenue['ordersB'])/\n",
    "         (mergedCumulativeRevenue['revenueA']/\n",
    "          mergedCumulativeRevenue['ordersA'])-1,\n",
    "         marker = 'o')\n",
    "plt.grid()\n",
    "# добавляем ось X\n",
    "plt.axhline(y=0, color='black', linestyle='--')\n",
    "plt.xlabel(\"Дата\")\n",
    "plt.ylabel(\"Изменение\")\n",
    "plt.show()"
   ]
  },
  {
   "cell_type": "markdown",
   "id": "9c49ecfc",
   "metadata": {},
   "source": [
    "**Вывод №3.3:** Значительные скачки графика вновь подтверждают предположение о наличии выбросов и аномалий в данных о среднем чеке или количестве заказов. Опять особенно сильно выделяются данные за 19.08.2019."
   ]
  },
  {
   "cell_type": "markdown",
   "id": "ca3f33f5",
   "metadata": {},
   "source": [
    "### Построить график кумулятивного среднего количества заказов на посетителя по группам. Сделать выводы и предположения."
   ]
  },
  {
   "cell_type": "code",
   "execution_count": 13,
   "id": "166b00ac",
   "metadata": {},
   "outputs": [
    {
     "data": {
      "image/png": "[encoded data removed]",
      "text/plain": [
       "<Figure size 864x288 with 1 Axes>"
      ]
     },
     "metadata": {
      "needs_background": "light"
     },
     "output_type": "display_data"
    }
   ],
   "source": [
    "# считаем кумулятивную конверсию\n",
    "cumulativeData['conversion'] = cumulativeData['orders']/cumulativeData['visitors']\n",
    "\n",
    "# отделяем данные по группе A\n",
    "cumulativeDataA = cumulativeData[cumulativeData['group']=='A']\n",
    "\n",
    "# отделяем данные по группе B\n",
    "cumulativeDataB = cumulativeData[cumulativeData['group']=='B']\n",
    "\n",
    "# строим графики\n",
    "plt.figure(figsize=(12, 4))\n",
    "plt.title('График кумулятивного среднего количества заказов на посетителя по группам')\n",
    "plt.plot(cumulativeDataA['date'], cumulativeDataA['conversion'], label='A', marker = 'o')\n",
    "plt.plot(cumulativeDataB['date'], cumulativeDataB['conversion'], label='B', marker = 'o')\n",
    "plt.legend()\n",
    "plt.grid()\n",
    "# задаем масштаб осей\n",
    "plt.axis([dt.datetime(2019, 8, 1), dt.datetime(2019, 9, 1), 0, 0.05])\n",
    "plt.xlabel(\"Дата\")\n",
    "plt.ylabel(\"Количество заказов\")\n",
    "plt.show()"
   ]
  },
  {
   "cell_type": "markdown",
   "id": "3ebbdeb6",
   "metadata": {},
   "source": [
    "**Вывод №3.4:** Несмотря на переплетения графиков вначале, группа В показывает более высокую степень конверсии покупателей, чем группа А. Данные обоих графиков стабильны. "
   ]
  },
  {
   "cell_type": "markdown",
   "id": "1d3f34e1",
   "metadata": {},
   "source": [
    "### Построить график относительного изменения кумулятивного среднего количества заказов на посетителя группы B к группе A. Сделать выводы и предположения.\n"
   ]
  },
  {
   "cell_type": "code",
   "execution_count": 14,
   "id": "5c0cfa2e",
   "metadata": {},
   "outputs": [
    {
     "data": {
      "image/png": "[encoded data removed]",
      "text/plain": [
       "<Figure size 864x288 with 1 Axes>"
      ]
     },
     "metadata": {
      "needs_background": "light"
     },
     "output_type": "display_data"
    }
   ],
   "source": [
    "mergedCumulativeConversions = cumulativeDataA[['date','conversion']].merge(cumulativeDataB[['date','conversion']], left_on='date', right_on='date', how='left', suffixes=['A', 'B'])\n",
    "plt.figure(figsize=(12, 4))\n",
    "plt.title('График относительного изменения кумулятивного среднего количества заказов на посетителя группы B к группе A')\n",
    "plt.plot(mergedCumulativeConversions['date'], mergedCumulativeConversions['conversionB']/mergedCumulativeConversions['conversionA']-1, label=\"Относительный прирост конверсии группы B относительно группы A\", marker = 'o')\n",
    "plt.legend()\n",
    "plt.grid()\n",
    "plt.axhline(y=0, color='black', linestyle='--')\n",
    "plt.axhline(y=0.2, color='grey', linestyle='--')\n",
    "plt.axis([\"2019-08-01\", '2019-09-01', -0.4, 0.4])\n",
    "plt.xlabel(\"Дата\")\n",
    "plt.ylabel(\"Изменение\")\n",
    "plt.show()"
   ]
  },
  {
   "cell_type": "markdown",
   "id": "5dd7a0e8",
   "metadata": {},
   "source": [
    "**Вывод №3.5:** На данном графике также можно увидеть, что конверсия группы В значительно превосходит конверсию группы А, не считая первых пяти дней проведения теста. "
   ]
  },
  {
   "cell_type": "markdown",
   "id": "448d3a68",
   "metadata": {},
   "source": [
    "### Построить точечный график количества заказов по пользователям. Сделать выводы и предположения."
   ]
  },
  {
   "cell_type": "code",
   "execution_count": 15,
   "id": "34d6e0e9",
   "metadata": {},
   "outputs": [
    {
     "data": {
      "text/html": [
       "<div>\n",
       "<style scoped>\n",
       "    .dataframe tbody tr th:only-of-type {\n",
       "        vertical-align: middle;\n",
       "    }\n",
       "\n",
       "    .dataframe tbody tr th {\n",
       "        vertical-align: top;\n",
       "    }\n",
       "\n",
       "    .dataframe thead th {\n",
       "        text-align: right;\n",
       "    }\n",
       "</style>\n",
       "<table border=\"1\" class=\"dataframe\">\n",
       "  <thead>\n",
       "    <tr style=\"text-align: right;\">\n",
       "      <th></th>\n",
       "      <th>visitorid</th>\n",
       "      <th>orders</th>\n",
       "    </tr>\n",
       "  </thead>\n",
       "  <tbody>\n",
       "    <tr>\n",
       "      <th>908</th>\n",
       "      <td>3967698036</td>\n",
       "      <td>3</td>\n",
       "    </tr>\n",
       "    <tr>\n",
       "      <th>55</th>\n",
       "      <td>249864742</td>\n",
       "      <td>3</td>\n",
       "    </tr>\n",
       "    <tr>\n",
       "      <th>478</th>\n",
       "      <td>2108163459</td>\n",
       "      <td>3</td>\n",
       "    </tr>\n",
       "    <tr>\n",
       "      <th>687</th>\n",
       "      <td>2988190573</td>\n",
       "      <td>3</td>\n",
       "    </tr>\n",
       "    <tr>\n",
       "      <th>890</th>\n",
       "      <td>3908431265</td>\n",
       "      <td>3</td>\n",
       "    </tr>\n",
       "    <tr>\n",
       "      <th>138</th>\n",
       "      <td>611059232</td>\n",
       "      <td>3</td>\n",
       "    </tr>\n",
       "    <tr>\n",
       "      <th>632</th>\n",
       "      <td>2742574263</td>\n",
       "      <td>3</td>\n",
       "    </tr>\n",
       "    <tr>\n",
       "      <th>157</th>\n",
       "      <td>678354126</td>\n",
       "      <td>2</td>\n",
       "    </tr>\n",
       "    <tr>\n",
       "      <th>323</th>\n",
       "      <td>1404560065</td>\n",
       "      <td>2</td>\n",
       "    </tr>\n",
       "    <tr>\n",
       "      <th>452</th>\n",
       "      <td>1985475298</td>\n",
       "      <td>2</td>\n",
       "    </tr>\n",
       "  </tbody>\n",
       "</table>\n",
       "</div>"
      ],
      "text/plain": [
       "      visitorid  orders\n",
       "908  3967698036       3\n",
       "55    249864742       3\n",
       "478  2108163459       3\n",
       "687  2988190573       3\n",
       "890  3908431265       3\n",
       "138   611059232       3\n",
       "632  2742574263       3\n",
       "157   678354126       2\n",
       "323  1404560065       2\n",
       "452  1985475298       2"
      ]
     },
     "metadata": {},
     "output_type": "display_data"
    },
    {
     "data": {
      "image/png": "[encoded data removed]",
      "text/plain": [
       "<Figure size 864x288 with 1 Axes>"
      ]
     },
     "metadata": {
      "needs_background": "light"
     },
     "output_type": "display_data"
    }
   ],
   "source": [
    "ordersByUsers = (\n",
    "    orders.groupby('visitorid', as_index=False)\n",
    "    .agg({'transactionid': 'nunique'})\n",
    ")\n",
    "ordersByUsers.columns = ['visitorid', 'orders']\n",
    "\n",
    "display(ordersByUsers.sort_values(by='orders', ascending=False).head(10))\n",
    "\n",
    "# серия из чисел от 0 до количества наблюдений в ordersByUsers\n",
    "x_values = pd.Series(range(0, len(ordersByUsers)))\n",
    "\n",
    "plt.figure(figsize=(12, 4))\n",
    "plt.title('Точечный график количества заказов по пользователям')\n",
    "plt.scatter(x_values, ordersByUsers['orders']) \n",
    "plt.grid()"
   ]
  },
  {
   "cell_type": "markdown",
   "id": "d44088af",
   "metadata": {},
   "source": [
    "**Вывод №3.6:** На графике четко видны выбросы и аномалии в виде 2 и более заказов. Необходимо установить значения перцентилей, чтобы не отсеить более 5% данных. "
   ]
  },
  {
   "cell_type": "markdown",
   "id": "e9556991",
   "metadata": {},
   "source": [
    "### Посчитать 95-й и 99-й перцентили количества заказов на пользователя. Выбрать границу для определения аномальных пользователей."
   ]
  },
  {
   "cell_type": "code",
   "execution_count": 16,
   "id": "8c894a9e",
   "metadata": {},
   "outputs": [
    {
     "name": "stdout",
     "output_type": "stream",
     "text": [
      "[1. 2.]\n"
     ]
    }
   ],
   "source": [
    "print(np.percentile(ordersByUsers['orders'], [95, 99]))  # Метод np.percentile('column', [percentile1, percentile2, percentile3]) находит перцентили."
   ]
  },
  {
   "cell_type": "markdown",
   "id": "a787d5a4",
   "metadata": {},
   "source": [
    "**Вывод №3.7:** Благодаря перцентилям мы можем точно утверждать, что количество пользователей, сделавших более 1 заказов не превышает 5%, а свыше 2 заказов не превышает 1% от общего числа пользователей в выборке.   \n",
    "Проведем границу на уровне 2 заказов.  "
   ]
  },
  {
   "cell_type": "markdown",
   "id": "ec992def",
   "metadata": {},
   "source": [
    "### Построить точечный график стоимостей заказов. Сделать выводы и предположения."
   ]
  },
  {
   "cell_type": "code",
   "execution_count": 17,
   "id": "71a8c683",
   "metadata": {},
   "outputs": [
    {
     "data": {
      "text/html": [
       "<div>\n",
       "<style scoped>\n",
       "    .dataframe tbody tr th:only-of-type {\n",
       "        vertical-align: middle;\n",
       "    }\n",
       "\n",
       "    .dataframe tbody tr th {\n",
       "        vertical-align: top;\n",
       "    }\n",
       "\n",
       "    .dataframe thead th {\n",
       "        text-align: right;\n",
       "    }\n",
       "</style>\n",
       "<table border=\"1\" class=\"dataframe\">\n",
       "  <thead>\n",
       "    <tr style=\"text-align: right;\">\n",
       "      <th></th>\n",
       "      <th>transactionid</th>\n",
       "      <th>visitorid</th>\n",
       "      <th>date</th>\n",
       "      <th>revenue</th>\n",
       "      <th>group</th>\n",
       "    </tr>\n",
       "  </thead>\n",
       "  <tbody>\n",
       "    <tr>\n",
       "      <th>425</th>\n",
       "      <td>590470918</td>\n",
       "      <td>1920142716</td>\n",
       "      <td>2019-08-19</td>\n",
       "      <td>1294500</td>\n",
       "      <td>B</td>\n",
       "    </tr>\n",
       "    <tr>\n",
       "      <th>1196</th>\n",
       "      <td>3936777065</td>\n",
       "      <td>2108080724</td>\n",
       "      <td>2019-08-15</td>\n",
       "      <td>202740</td>\n",
       "      <td>B</td>\n",
       "    </tr>\n",
       "    <tr>\n",
       "      <th>1136</th>\n",
       "      <td>666610489</td>\n",
       "      <td>1307669133</td>\n",
       "      <td>2019-08-13</td>\n",
       "      <td>92550</td>\n",
       "      <td>A</td>\n",
       "    </tr>\n",
       "    <tr>\n",
       "      <th>744</th>\n",
       "      <td>3668308183</td>\n",
       "      <td>888512513</td>\n",
       "      <td>2019-08-27</td>\n",
       "      <td>86620</td>\n",
       "      <td>B</td>\n",
       "    </tr>\n",
       "    <tr>\n",
       "      <th>743</th>\n",
       "      <td>3603576309</td>\n",
       "      <td>4133034833</td>\n",
       "      <td>2019-08-09</td>\n",
       "      <td>67990</td>\n",
       "      <td>A</td>\n",
       "    </tr>\n",
       "    <tr>\n",
       "      <th>1103</th>\n",
       "      <td>1348774318</td>\n",
       "      <td>1164614297</td>\n",
       "      <td>2019-08-12</td>\n",
       "      <td>66350</td>\n",
       "      <td>A</td>\n",
       "    </tr>\n",
       "    <tr>\n",
       "      <th>1099</th>\n",
       "      <td>316924019</td>\n",
       "      <td>148427295</td>\n",
       "      <td>2019-08-12</td>\n",
       "      <td>65710</td>\n",
       "      <td>A</td>\n",
       "    </tr>\n",
       "    <tr>\n",
       "      <th>949</th>\n",
       "      <td>1347999392</td>\n",
       "      <td>887908475</td>\n",
       "      <td>2019-08-21</td>\n",
       "      <td>60450</td>\n",
       "      <td>A</td>\n",
       "    </tr>\n",
       "    <tr>\n",
       "      <th>940</th>\n",
       "      <td>2420050534</td>\n",
       "      <td>4003628586</td>\n",
       "      <td>2019-08-08</td>\n",
       "      <td>58550</td>\n",
       "      <td>B</td>\n",
       "    </tr>\n",
       "    <tr>\n",
       "      <th>131</th>\n",
       "      <td>3163614039</td>\n",
       "      <td>2254586615</td>\n",
       "      <td>2019-08-22</td>\n",
       "      <td>53904</td>\n",
       "      <td>A</td>\n",
       "    </tr>\n",
       "  </tbody>\n",
       "</table>\n",
       "</div>"
      ],
      "text/plain": [
       "      transactionid   visitorid       date  revenue group\n",
       "425       590470918  1920142716 2019-08-19  1294500     B\n",
       "1196     3936777065  2108080724 2019-08-15   202740     B\n",
       "1136      666610489  1307669133 2019-08-13    92550     A\n",
       "744      3668308183   888512513 2019-08-27    86620     B\n",
       "743      3603576309  4133034833 2019-08-09    67990     A\n",
       "1103     1348774318  1164614297 2019-08-12    66350     A\n",
       "1099      316924019   148427295 2019-08-12    65710     A\n",
       "949      1347999392   887908475 2019-08-21    60450     A\n",
       "940      2420050534  4003628586 2019-08-08    58550     B\n",
       "131      3163614039  2254586615 2019-08-22    53904     A"
      ]
     },
     "metadata": {},
     "output_type": "display_data"
    },
    {
     "data": {
      "image/png": "[encoded data removed]",
      "text/plain": [
       "<Figure size 864x288 with 1 Axes>"
      ]
     },
     "metadata": {
      "needs_background": "light"
     },
     "output_type": "display_data"
    },
    {
     "data": {
      "image/png": "[encoded data removed]",
      "text/plain": [
       "<Figure size 864x288 with 1 Axes>"
      ]
     },
     "metadata": {
      "needs_background": "light"
     },
     "output_type": "display_data"
    }
   ],
   "source": [
    "display(orders.sort_values(by='revenue', ascending=False).head(10))\n",
    "\n",
    "x_values = pd.Series(range(0, len(orders['revenue'])))\n",
    "\n",
    "plt.figure(figsize=(12, 4))\n",
    "plt.title('Точечный график стоимостей заказов')\n",
    "plt.scatter(x_values, orders['revenue']) \n",
    "plt.grid()\n",
    "plt.show()\n",
    "plt.figure(figsize=(12, 4))\n",
    "plt.title('Точечный график стоимостей заказов')\n",
    "plt.scatter(x_values, orders['revenue']) \n",
    "plt.grid()\n",
    "plt.axis([0,1000, 0, 100000])\n",
    "plt.show()"
   ]
  },
  {
   "cell_type": "markdown",
   "id": "80beb35c",
   "metadata": {},
   "source": [
    "**Вывод №3.8:** Наблюдается одно критически аномальное значение в 1294500, оно непосредственно влияет на результаты исследования, однако в данных присутствуют и иные аномалии, при уменьшении масштаба становится понятно, что основной диапозон значений находится в пределах 40000, однако эту информацию также необходимо подтвердить с помощью перцентилей."
   ]
  },
  {
   "cell_type": "markdown",
   "id": "fd0cdac1",
   "metadata": {},
   "source": [
    "### Посчитать 95-й и 99-й перцентили стоимости заказов. Выбрать границу для определения аномальных заказов."
   ]
  },
  {
   "cell_type": "code",
   "execution_count": 18,
   "id": "e2462cd3",
   "metadata": {},
   "outputs": [
    {
     "name": "stdout",
     "output_type": "stream",
     "text": [
      "[26785. 53904.]\n"
     ]
    }
   ],
   "source": [
    "print(np.percentile(orders['revenue'], [95, 99])) "
   ]
  },
  {
   "cell_type": "markdown",
   "id": "ee294e1f",
   "metadata": {},
   "source": [
    "**Вывод №3.9:** На сумму свыше 26785 совершили покупку только 5% пользователей, а свыше 53904 лишь 1%.   \n",
    "Проведем границу на уровне 30000.  "
   ]
  },
  {
   "cell_type": "markdown",
   "id": "943445d4",
   "metadata": {},
   "source": [
    "**ФОРМУЛИРОВКА ГИПОТЕЗ:**   \n",
    "\n",
    "1. **H0 = между группами нет значимой разницы**   \n",
    "2. **HA = между группами есть значимая разница**   \n",
    "\n",
    "Значение alpha = 0.05"
   ]
  },
  {
   "cell_type": "markdown",
   "id": "48142485",
   "metadata": {},
   "source": [
    "### Посчитать статистическую значимость различий в среднем количестве заказов на посетителя между группами по «сырым» данным. Сделать выводы и предположения."
   ]
  },
  {
   "cell_type": "code",
   "execution_count": 19,
   "id": "a840f795",
   "metadata": {},
   "outputs": [
    {
     "name": "stdout",
     "output_type": "stream",
     "text": [
      "p-значение:  0.011\n",
      "Отвергаем нулевую гипотезу: между группами есть значимая разница\n",
      "15.98%\n"
     ]
    }
   ],
   "source": [
    "alpha = 0.05\n",
    "\n",
    "visitorsADaily = visitors[visitors['group'] == 'A'][['date', 'visitors']]\n",
    "visitorsADaily.columns = ['date', 'visitorsPerDateA']\n",
    "\n",
    "visitorsACummulative = visitorsADaily.apply(\n",
    "    lambda x: visitorsADaily[visitorsADaily['date'] <= x['date']].agg(\n",
    "        {'date': 'max', 'visitorsPerDateA': 'sum'}\n",
    "    ),\n",
    "    axis=1,\n",
    ")\n",
    "visitorsACummulative.columns = ['date', 'visitorsCummulativeA']\n",
    "\n",
    "visitorsBDaily = visitors[visitors['group'] == 'B'][['date', 'visitors']]\n",
    "visitorsBDaily.columns = ['date', 'visitorsPerDateB']\n",
    "\n",
    "visitorsBCummulative = visitorsBDaily.apply(\n",
    "    lambda x: visitorsBDaily[visitorsBDaily['date'] <= x['date']].agg(\n",
    "        {'date': 'max', 'visitorsPerDateB': 'sum'}\n",
    "    ),\n",
    "    axis=1,\n",
    ")\n",
    "visitorsBCummulative.columns = ['date', 'visitorsCummulativeB']\n",
    "\n",
    "ordersADaily = (\n",
    "    orders[orders['group'] == 'A'][['date', 'transactionid', 'visitorid', 'revenue']]\n",
    "    .groupby('date', as_index=False)\n",
    "    .agg({'transactionid': pd.Series.nunique, 'revenue': 'sum'})\n",
    ")\n",
    "ordersADaily.columns = ['date', 'ordersPerDateA', 'revenuePerDateA']\n",
    "\n",
    "ordersACummulative = ordersADaily.apply(\n",
    "    lambda x: ordersADaily[ordersADaily['date'] <= x['date']].agg(\n",
    "        {'date': 'max', 'ordersPerDateA': 'sum', 'revenuePerDateA': 'sum'}\n",
    "    ),\n",
    "    axis=1,\n",
    ").sort_values(by=['date'])\n",
    "ordersACummulative.columns = [\n",
    "    'date',\n",
    "    'ordersCummulativeA',\n",
    "    'revenueCummulativeA',\n",
    "]\n",
    "\n",
    "ordersBDaily = (\n",
    "    orders[orders['group'] == 'B'][['date', 'transactionid', 'visitorid', 'revenue']]\n",
    "    .groupby('date', as_index=False)\n",
    "    .agg({'transactionid': pd.Series.nunique, 'revenue': 'sum'})\n",
    ")\n",
    "ordersBDaily.columns = ['date', 'ordersPerDateB', 'revenuePerDateB']\n",
    "\n",
    "ordersBCummulative = ordersBDaily.apply(\n",
    "    lambda x: ordersBDaily[ordersBDaily['date'] <= x['date']].agg(\n",
    "        {'date': 'max', 'ordersPerDateB': 'sum', 'revenuePerDateB': 'sum'}\n",
    "    ),\n",
    "    axis=1,\n",
    ").sort_values(by=['date'])\n",
    "ordersBCummulative.columns = [\n",
    "    'date',\n",
    "    'ordersCummulativeB',\n",
    "    'revenueCummulativeB',\n",
    "]\n",
    "\n",
    "data = (\n",
    "    ordersADaily.merge(\n",
    "        ordersBDaily, left_on='date', right_on='date', how='left'\n",
    "    )\n",
    "    .merge(ordersACummulative, left_on='date', right_on='date', how='left')\n",
    "    .merge(ordersBCummulative, left_on='date', right_on='date', how='left')\n",
    "    .merge(visitorsADaily, left_on='date', right_on='date', how='left')\n",
    "    .merge(visitorsBDaily, left_on='date', right_on='date', how='left')\n",
    "    .merge(visitorsACummulative, left_on='date', right_on='date', how='left')\n",
    "    .merge(visitorsBCummulative, left_on='date', right_on='date', how='left')\n",
    ")\n",
    "\n",
    "ordersByUsersA = (\n",
    "    orders[orders['group'] == 'A']\n",
    "    .groupby('visitorid', as_index=False)\n",
    "    .agg({'transactionid': pd.Series.nunique})\n",
    ")\n",
    "ordersByUsersA.columns = ['visitorid', 'orders']\n",
    "\n",
    "ordersByUsersB = (\n",
    "    orders[orders['group'] == 'B']\n",
    "    .groupby('visitorid', as_index=False)\n",
    "    .agg({'transactionid': pd.Series.nunique})\n",
    ")\n",
    "ordersByUsersB.columns = ['visitorid', 'orders']\n",
    "\n",
    "\n",
    "sampleA = pd.concat([ordersByUsersA['orders'],pd.Series(0, index=np.arange(data['visitorsPerDateA'].sum() - len(ordersByUsersA['orders'])), name='orders')],axis=0)\n",
    "\n",
    "sampleB = pd.concat([ordersByUsersB['orders'],pd.Series(0, index=np.arange(data['visitorsPerDateB'].sum() - len(ordersByUsersB['orders'])), name='orders')],axis=0)\n",
    "\n",
    "p_value_1 = float(\"{0:.3f}\".format(stats.mannwhitneyu(sampleA, sampleB)[1]))\n",
    "ratio_1 = \"{0:.2f}%\".format((sampleB.mean() / sampleA.mean() - 1)*100)\n",
    "\n",
    "\n",
    "print('p-значение: ', p_value_1)\n",
    "\n",
    "if p_value_1 < alpha:\n",
    "    print('Отвергаем нулевую гипотезу: между группами есть значимая разница')\n",
    "else:\n",
    "    print(\n",
    "        'Не получилось отвергнуть нулевую гипотезу, нет оснований считать группы разными'\n",
    "    ) \n",
    "print(ratio_1)"
   ]
  },
  {
   "cell_type": "markdown",
   "id": "bea37b2b",
   "metadata": {},
   "source": [
    "**Вывод №3.10:** Статистическая значимость различий в среднем количестве заказов по «сырым» данным выдала результат о том, что в группе есть существенные различия, при этом группа В опережает группу А на 16% по числу заказов."
   ]
  },
  {
   "cell_type": "markdown",
   "id": "e093da0a",
   "metadata": {},
   "source": [
    "### Посчитать статистическую значимость различий в среднем чеке заказа между группами по «сырым» данным. Сделать выводы и предположения."
   ]
  },
  {
   "cell_type": "code",
   "execution_count": 20,
   "id": "7d67e60e",
   "metadata": {},
   "outputs": [
    {
     "name": "stdout",
     "output_type": "stream",
     "text": [
      "p-значение:  0.829\n",
      "Не получилось отвергнуть нулевую гипотезу, нет оснований считать группы разными\n",
      "28.66%\n"
     ]
    }
   ],
   "source": [
    "p_value_2 = float('{0:.3f}'.format(stats.mannwhitneyu(orders[orders['group']=='A']['revenue'], \n",
    "                                                      orders[orders['group']=='B']['revenue'])[1]))\n",
    "ratio_2 = '{0:.2f}%'.format((orders[orders['group']=='B']['revenue'].mean()/orders[orders['group']=='A']['revenue'].mean()-1)*100)\n",
    "\n",
    "print('p-значение: ', p_value_2)\n",
    "\n",
    "if p_value_2 < alpha:\n",
    "    print('Отвергаем нулевую гипотезу: между группами есть значимая разница')\n",
    "else:\n",
    "    print(\n",
    "        'Не получилось отвергнуть нулевую гипотезу, нет оснований считать группы разными'\n",
    "    ) \n",
    "print(ratio_2)"
   ]
  },
  {
   "cell_type": "markdown",
   "id": "378fdf8e",
   "metadata": {},
   "source": [
    "**Вывод №3.11:** разница в 29% в среднем чеке не оказалась статистически значимой."
   ]
  },
  {
   "cell_type": "markdown",
   "id": "6285494e",
   "metadata": {},
   "source": [
    "### Посчитать статистическую значимость различий в среднем количестве заказов на посетителя между группами по «очищенным» данным. Сделать выводы и предположения."
   ]
  },
  {
   "cell_type": "code",
   "execution_count": 21,
   "id": "dadc6245",
   "metadata": {},
   "outputs": [],
   "source": [
    "percentile_orders = 2\n",
    "percentile_revenue = 30000\n",
    "\n",
    "usersWithManyOrders = pd.concat(\n",
    "    [\n",
    "        ordersByUsersA[ordersByUsersA['orders'] > percentile_orders]['visitorid'],\n",
    "        ordersByUsersB[ordersByUsersB['orders'] > percentile_orders]['visitorid'],\n",
    "    ],\n",
    "    axis=0,\n",
    ")\n",
    "usersWithExpensiveOrders = orders[orders['revenue'] > percentile_revenue]['visitorid']\n",
    "abnormalUsers = (\n",
    "    pd.concat([usersWithManyOrders, usersWithExpensiveOrders], axis=0)\n",
    "    .drop_duplicates()\n",
    "    .sort_values()\n",
    ")"
   ]
  },
  {
   "cell_type": "code",
   "execution_count": 22,
   "id": "11aa0493",
   "metadata": {},
   "outputs": [],
   "source": [
    "sampleAFiltered = pd.concat(\n",
    "    [\n",
    "        ordersByUsersA[\n",
    "            np.logical_not(ordersByUsersA['visitorid'].isin(abnormalUsers))\n",
    "        ]['orders'],\n",
    "        pd.Series(\n",
    "            0,\n",
    "            index=np.arange(\n",
    "                data['visitorsPerDateA'].sum() - len(ordersByUsersA['orders'])\n",
    "            ),\n",
    "            name='orders',\n",
    "        ),\n",
    "    ],\n",
    "    axis=0,\n",
    ")\n",
    "\n",
    "sampleBFiltered = pd.concat(\n",
    "    [\n",
    "        ordersByUsersB[\n",
    "            np.logical_not(ordersByUsersB['visitorid'].isin(abnormalUsers))\n",
    "        ]['orders'],\n",
    "        pd.Series(\n",
    "            0,\n",
    "            index=np.arange(\n",
    "                data['visitorsPerDateB'].sum() - len(ordersByUsersB['orders'])\n",
    "            ),\n",
    "            name='orders',\n",
    "        ),\n",
    "    ],\n",
    "    axis=0,\n",
    ")\n"
   ]
  },
  {
   "cell_type": "code",
   "execution_count": 23,
   "id": "2574de5c",
   "metadata": {},
   "outputs": [
    {
     "name": "stdout",
     "output_type": "stream",
     "text": [
      "p-значение:  0.01\n",
      "Отвергаем нулевую гипотезу: между группами есть значимая разница\n",
      "18.73%\n"
     ]
    }
   ],
   "source": [
    "p_value_3 = float('{0:.3f}'.format(stats.mannwhitneyu(sampleAFiltered, sampleBFiltered)[1]))\n",
    "ratio_3 = '{0:.2f}%'.format((sampleBFiltered.mean()/sampleAFiltered.mean()-1)*100)\n",
    "\n",
    "print('p-значение: ', p_value_3)\n",
    "\n",
    "if p_value_3 < alpha:\n",
    "    print('Отвергаем нулевую гипотезу: между группами есть значимая разница')\n",
    "else:\n",
    "    print(\n",
    "        'Не получилось отвергнуть нулевую гипотезу, нет оснований считать группы разными'\n",
    "    ) \n",
    "print(ratio_3)"
   ]
  },
  {
   "cell_type": "markdown",
   "id": "9ce8fd1a",
   "metadata": {},
   "source": [
    "**Вывод №3.12:** Статистическая значимость различий в среднем количестве заказов по «очищенным» данным показала, что между группами есть значимые различия.    \n",
    "Группа В опережает группу А на 18%."
   ]
  },
  {
   "cell_type": "markdown",
   "id": "a30999d1",
   "metadata": {},
   "source": [
    "### Посчитать статистическую значимость различий в среднем чеке заказа между группами по «очищенным» данным. Сделать выводы и предположения."
   ]
  },
  {
   "cell_type": "code",
   "execution_count": 24,
   "id": "07e078a7",
   "metadata": {},
   "outputs": [
    {
     "name": "stdout",
     "output_type": "stream",
     "text": [
      "p-значение:  0.741\n",
      "Не получилось отвергнуть нулевую гипотезу, нет оснований считать группы разными\n",
      "-2.66%\n"
     ]
    }
   ],
   "source": [
    "p_value_4 = float('{0:.3f}'.format(\n",
    "        stats.mannwhitneyu(\n",
    "            orders[\n",
    "                np.logical_and(\n",
    "                    orders['group'] == 'A',\n",
    "                    np.logical_not(orders['visitorid'].isin(abnormalUsers)),\n",
    "                )\n",
    "            ]['revenue'],\n",
    "            orders[\n",
    "                np.logical_and(\n",
    "                    orders['group'] == 'B',\n",
    "                    np.logical_not(orders['visitorid'].isin(abnormalUsers)),\n",
    "                )\n",
    "            ]['revenue'],\n",
    "        )[1]\n",
    "    ))\n",
    "ratio_4 = '{0:.2f}%'.format((\n",
    "        orders[\n",
    "            np.logical_and(\n",
    "                orders['group'] == 'B',\n",
    "                np.logical_not(orders['visitorid'].isin(abnormalUsers)),\n",
    "            )\n",
    "        ]['revenue'].mean()\n",
    "        / orders[\n",
    "            np.logical_and(\n",
    "                orders['group'] == 'A',\n",
    "                np.logical_not(orders['visitorid'].isin(abnormalUsers)),\n",
    "            )\n",
    "        ]['revenue'].mean()\n",
    "        - 1\n",
    "    )*100)\n",
    "\n",
    "print('p-значение: ', p_value_4)\n",
    "\n",
    "if p_value_4 < alpha:\n",
    "    print('Отвергаем нулевую гипотезу: между группами есть значимая разница')\n",
    "else:\n",
    "    print(\n",
    "        'Не получилось отвергнуть нулевую гипотезу, нет оснований считать группы разными'\n",
    "    ) \n",
    "print(ratio_4)"
   ]
  },
  {
   "cell_type": "markdown",
   "id": "df05b306",
   "metadata": {},
   "source": [
    "**Вывод №3.13:** Статистическую значимость различий в среднем чеке по «очищенным» данным показала тот же результат, что нет оснований считать группы разными. При этом, группа В даже проигрывает группе А, однако эти различия не стоит считать существенными."
   ]
  },
  {
   "cell_type": "markdown",
   "id": "7d497a78",
   "metadata": {},
   "source": [
    "### Принять решение по результатам теста и объяснить его."
   ]
  },
  {
   "cell_type": "markdown",
   "id": "3d9f621b",
   "metadata": {},
   "source": [
    "**Вывод №3.14:** По итогу исследования можно сделать вывод о том, что в среднем количестве заказов на посетителя между группами по \"очищенным\" и по \"сырым\" данным есть значимые различия, при этом группа В показывает более высокий результат, чем группа А.\n",
    "Однако по различиям в среднем чеке заказа по \"очищенным\" и по \"сырым\" данным наблюдается отсутствие статистически значимых различий между группами. Продолжать тест нет необходимости, мы получили все необходимые нам результаты. Останавливаем тест и признаем победу группы В. "
   ]
  },
  {
   "cell_type": "markdown",
   "id": "1db39184",
   "metadata": {},
   "source": [
    "## Выводы исследования:"
   ]
  },
  {
   "cell_type": "markdown",
   "id": "3d58cfb6",
   "metadata": {},
   "source": [
    "**Рекомендации:** Рекомендуется внедрить изменения, которые были представлены группой В, т.к. в этом случае конверсия повысится примерно на 18%. Однако нужно иметь в виду то, что значения среднего чека не будут иметь статистически значимых различий. При наличии ресурсов необходимо выяснить, что влияет на размер среднего чека в группе В. \n",
    "\n",
    "**Общий вывод:** Цель исследования выполнена: проведен анализ датасетов, изучены представленные гипотезы, выделены среди них наиболее приоритетные, проведены А/В-тесты, а также их динамика в \"сырых\" и \"очищенных\" данных, выработаны соответствующие рекомендации.  "
   ]
  }
 ],
 "metadata": {
  "ExecuteTimeLog": [
   {
    "duration": 1197,
    "start_time": "2023-05-16T07:00:46.472Z"
   },
   {
    "duration": 333,
    "start_time": "2023-05-16T07:00:47.671Z"
   },
   {
    "duration": 67,
    "start_time": "2023-05-16T07:00:48.005Z"
   },
   {
    "duration": 11,
    "start_time": "2023-05-16T07:00:48.074Z"
   },
   {
    "duration": 29,
    "start_time": "2023-05-16T07:00:48.086Z"
   },
   {
    "duration": 16,
    "start_time": "2023-05-16T07:00:48.116Z"
   },
   {
    "duration": 28,
    "start_time": "2023-05-16T07:00:48.133Z"
   },
   {
    "duration": 7,
    "start_time": "2023-05-16T07:00:48.163Z"
   },
   {
    "duration": 588,
    "start_time": "2023-05-16T07:00:48.172Z"
   },
   {
    "duration": 193,
    "start_time": "2023-05-16T07:00:48.762Z"
   },
   {
    "duration": 253,
    "start_time": "2023-05-16T07:00:48.956Z"
   },
   {
    "duration": 200,
    "start_time": "2023-05-16T07:00:49.214Z"
   },
   {
    "duration": 328,
    "start_time": "2023-05-16T07:00:49.416Z"
   },
   {
    "duration": 159,
    "start_time": "2023-05-16T07:00:49.746Z"
   },
   {
    "duration": 8,
    "start_time": "2023-05-16T07:00:49.912Z"
   },
   {
    "duration": 292,
    "start_time": "2023-05-16T07:00:49.931Z"
   },
   {
    "duration": 7,
    "start_time": "2023-05-16T07:00:50.225Z"
   },
   {
    "duration": 431,
    "start_time": "2023-05-16T07:00:50.233Z"
   },
   {
    "duration": 9,
    "start_time": "2023-05-16T07:00:50.666Z"
   },
   {
    "duration": 11,
    "start_time": "2023-05-16T07:00:50.677Z"
   },
   {
    "duration": 18,
    "start_time": "2023-05-16T07:00:50.689Z"
   },
   {
    "duration": 30,
    "start_time": "2023-05-16T07:00:50.709Z"
   },
   {
    "duration": 22,
    "start_time": "2023-05-16T07:00:50.741Z"
   },
   {
    "duration": 1081,
    "start_time": "2023-05-16T07:04:03.349Z"
   },
   {
    "duration": 152,
    "start_time": "2023-05-16T07:04:04.434Z"
   },
   {
    "duration": 69,
    "start_time": "2023-05-16T07:04:04.588Z"
   },
   {
    "duration": 11,
    "start_time": "2023-05-16T07:04:04.659Z"
   },
   {
    "duration": 11,
    "start_time": "2023-05-16T07:04:04.672Z"
   },
   {
    "duration": 40,
    "start_time": "2023-05-16T07:04:04.685Z"
   },
   {
    "duration": 22,
    "start_time": "2023-05-16T07:04:04.726Z"
   },
   {
    "duration": 5,
    "start_time": "2023-05-16T07:04:04.750Z"
   },
   {
    "duration": 524,
    "start_time": "2023-05-16T07:04:04.757Z"
   },
   {
    "duration": 203,
    "start_time": "2023-05-16T07:04:05.283Z"
   },
   {
    "duration": 307,
    "start_time": "2023-05-16T07:04:05.487Z"
   },
   {
    "duration": 208,
    "start_time": "2023-05-16T07:04:05.795Z"
   },
   {
    "duration": 332,
    "start_time": "2023-05-16T07:04:06.007Z"
   },
   {
    "duration": 148,
    "start_time": "2023-05-16T07:04:06.341Z"
   },
   {
    "duration": 4,
    "start_time": "2023-05-16T07:04:06.490Z"
   },
   {
    "duration": 286,
    "start_time": "2023-05-16T07:04:06.496Z"
   },
   {
    "duration": 4,
    "start_time": "2023-05-16T07:04:06.783Z"
   },
   {
    "duration": 414,
    "start_time": "2023-05-16T07:04:06.788Z"
   },
   {
    "duration": 14,
    "start_time": "2023-05-16T07:04:07.205Z"
   },
   {
    "duration": 11,
    "start_time": "2023-05-16T07:04:07.228Z"
   },
   {
    "duration": 13,
    "start_time": "2023-05-16T07:04:07.241Z"
   },
   {
    "duration": 29,
    "start_time": "2023-05-16T07:04:07.255Z"
   },
   {
    "duration": 12,
    "start_time": "2023-05-16T07:04:07.286Z"
   },
   {
    "duration": 1280,
    "start_time": "2023-07-16T14:05:39.100Z"
   },
   {
    "duration": 211,
    "start_time": "2023-07-16T14:05:40.382Z"
   },
   {
    "duration": 54,
    "start_time": "2023-07-16T14:05:40.594Z"
   },
   {
    "duration": 13,
    "start_time": "2023-07-16T14:05:40.650Z"
   },
   {
    "duration": 312,
    "start_time": "2023-07-16T14:05:40.665Z"
   },
   {
    "duration": 12,
    "start_time": "2023-07-16T14:05:40.979Z"
   },
   {
    "duration": 27,
    "start_time": "2023-07-16T14:05:40.993Z"
   },
   {
    "duration": 17,
    "start_time": "2023-07-16T14:05:41.022Z"
   },
   {
    "duration": 21,
    "start_time": "2023-07-16T14:05:41.041Z"
   },
   {
    "duration": 473,
    "start_time": "2023-07-16T14:05:41.065Z"
   },
   {
    "duration": 219,
    "start_time": "2023-07-16T14:05:41.540Z"
   },
   {
    "duration": 338,
    "start_time": "2023-07-16T14:05:41.760Z"
   },
   {
    "duration": 189,
    "start_time": "2023-07-16T14:05:42.100Z"
   },
   {
    "duration": 353,
    "start_time": "2023-07-16T14:05:42.290Z"
   },
   {
    "duration": 164,
    "start_time": "2023-07-16T14:05:42.645Z"
   },
   {
    "duration": 12,
    "start_time": "2023-07-16T14:05:42.810Z"
   },
   {
    "duration": 381,
    "start_time": "2023-07-16T14:05:42.824Z"
   },
   {
    "duration": 4,
    "start_time": "2023-07-16T14:05:43.207Z"
   },
   {
    "duration": 350,
    "start_time": "2023-07-16T14:05:43.221Z"
   },
   {
    "duration": 11,
    "start_time": "2023-07-16T14:05:43.573Z"
   },
   {
    "duration": 9,
    "start_time": "2023-07-16T14:05:43.586Z"
   },
   {
    "duration": 25,
    "start_time": "2023-07-16T14:05:43.597Z"
   },
   {
    "duration": 25,
    "start_time": "2023-07-16T14:05:43.624Z"
   },
   {
    "duration": 14,
    "start_time": "2023-07-16T14:05:43.651Z"
   }
  ],
  "kernelspec": {
   "display_name": "Python 3 (ipykernel)",
   "language": "python",
   "name": "python3"
  },
  "language_info": {
   "codemirror_mode": {
    "name": "ipython",
    "version": 3
   },
   "file_extension": ".py",
   "mimetype": "text/x-python",
   "name": "python",
   "nbconvert_exporter": "python",
   "pygments_lexer": "ipython3",
   "version": "3.9.13"
  },
  "toc": {
   "base_numbering": 1,
   "nav_menu": {},
   "number_sections": true,
   "sideBar": true,
   "skip_h1_title": true,
   "title_cell": "Table of Contents",
   "title_sidebar": "Contents",
   "toc_cell": true,
   "toc_position": {},
   "toc_section_display": true,
   "toc_window_display": false
  }
 },
 "nbformat": 4,
 "nbformat_minor": 5
}
